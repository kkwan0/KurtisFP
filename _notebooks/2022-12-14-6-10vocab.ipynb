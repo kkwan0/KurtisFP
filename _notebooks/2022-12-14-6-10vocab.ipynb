{
 "cells": [
  {
   "cell_type": "markdown",
   "metadata": {},
   "source": [
    "# Unit 6-10 Check\n",
    "> Unit 6-10 check\n",
    "\n",
    "- toc: true \n",
    "- badges: true\n",
    "- comments: true\n",
    "- categories: [jupyter]\n",
    "- image: "
   ]
  },
  {
   "attachments": {},
   "cell_type": "markdown",
   "metadata": {},
   "source": [
    "Unit 6 - ArrayList\n",
    "arrays are a data storage type\n",
    "- intialize with constructors\n"
   ]
  },
  {
   "attachments": {},
   "cell_type": "markdown",
   "metadata": {},
   "source": [
    "Unit 7 - Arraylist\n",
    "\n",
    "- arraylist values can be changed\n",
    "- go through with for loops or enhanced for loops\n",
    "\n",
    "\n",
    "\n",
    "HW: Fun Quizziz!!!\n"
   ]
  },
  {
   "cell_type": "code",
   "execution_count": 1,
   "metadata": {
    "vscode": {
     "languageId": "java"
    }
   },
   "outputs": [
    {
     "name": "stdout",
     "output_type": "stream",
     "text": [
      "There are 3 in the ArrayList\n",
      "There are 3 in the ArrayList\n",
      "There are now 4 dogs in the ArrayList\n",
      "My dog is named Noodle\n"
     ]
    }
   ],
   "source": [
    "import java.util.ArrayList; \n",
    "\n",
    "public class methodsArrayList {\n",
    "    public static void main (String[] args) {\n",
    "        ArrayList<String> dogs = new ArrayList<String>(Arrays.asList(\"Sparky\", \"Duke\", \"Noodle\"));\n",
    "        ArrayList<String> dogs2 = new ArrayList<>(Arrays.asList(\"Sparky\", \"Duke\", \"Noodle\"));\n",
    "        System.out.println(\"There are \" + dogs.size() + \" in the ArrayList\"); \n",
    "        System.out.println(\"There are \" + dogs2.size() + \" in the ArrayList\");\n",
    "        \n",
    "        //objects you add must be of the same data type\n",
    "        dogs.add(\"Peanut\");\n",
    "        System.out.println(\"There are now \" + dogs.size() + \" dogs in the ArrayList\"); \n",
    "\n",
    "        String myDog = dogs.get(2);\n",
    "        System.out.println(\"My dog is named \" + myDog);\n",
    "    }\n",
    "}\n",
    "\n",
    "//Note: you don't need to declare <String> again after new ArrayList\n",
    "\n",
    "methodsArrayList.main(null);\n"
   ]
  },
  {
   "attachments": {},
   "cell_type": "markdown",
   "metadata": {},
   "source": [
    "Unit 8 - 2D Array\n",
    "- 2D arrays have an extra index, 2D \n"
   ]
  },
  {
   "cell_type": "code",
   "execution_count": 2,
   "metadata": {
    "vscode": {
     "languageId": "java"
    }
   },
   "outputs": [
    {
     "name": "stdout",
     "output_type": "stream",
     "text": [
      "Boston\n"
     ]
    }
   ],
   "source": [
    "public class Test {\n",
    "\n",
    "    public static void main(String[] args) {\n",
    "  \n",
    "        String[][] arr = {\n",
    "            { \"Atlanta\", \"Baltimore\", \"Chicago\" },\n",
    "            { \"Australia\", \"Boston\", \"Cincinnati\" },\n",
    "            { \"Austin\", \"Beaumont\", \"Columbus\" }\n",
    "        };\n",
    "\n",
    "        String match = \"\";\n",
    "        String name = \"Boston\";\n",
    "        for (String[] row : arr) {\n",
    "            for (String item : row) {\n",
    "                if (item.equals(name)) {\n",
    "                    match = name;\n",
    "                }\n",
    "            }\n",
    "        }\n",
    "\n",
    "        if (match.length() == 0) {\n",
    "            System.out.println(\"No Match!\");\n",
    "        } else {\n",
    "            System.out.println(name);\n",
    "        }\n",
    "        \n",
    "    }\n",
    " \n",
    " }\n",
    "Test.main(null);"
   ]
  },
  {
   "attachments": {},
   "cell_type": "markdown",
   "metadata": {},
   "source": [
    "Unit 9 - Inheritance\n",
    "- Inheritance, order in which attributes, methods and strings called\n",
    "- constructor - where attributes are defined\n",
    "- overriding - subclass or child class can get overridden with another method in subclass\n",
    "- polymorphism - running multiple things with same name\n",
    "- super keyword, use superclass in subclass"
   ]
  },
  {
   "attachments": {},
   "cell_type": "markdown",
   "metadata": {},
   "source": [
    "Unit 10 - Recursion\n",
    "- recursion is when method calls itself within itself\n",
    "- binary search\n",
    "- selection sort - find minimum from unsorted, put on end of sorted\n",
    "- merge - split in 2, sort both halves, then merge\n",
    "\n",
    "HW: Google Form\n"
   ]
  }
 ],
 "metadata": {
  "kernelspec": {
   "display_name": "Java",
   "language": "java",
   "name": "java"
  },
  "language_info": {
   "codemirror_mode": "java",
   "file_extension": ".jshell",
   "mimetype": "text/x-java-source",
   "name": "Java",
   "pygments_lexer": "java",
   "version": "17.0.5+8-Ubuntu-2ubuntu120.04"
  },
  "orig_nbformat": 4,
  "vscode": {
   "interpreter": {
    "hash": "916dbcbb3f70747c44a77c7bcd40155683ae19c65e1c03b4aa3499c5328201f1"
   }
  }
 },
 "nbformat": 4,
 "nbformat_minor": 2
}
