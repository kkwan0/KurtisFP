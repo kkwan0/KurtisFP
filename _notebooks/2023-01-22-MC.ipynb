{
 "cells": [
  {
   "attachments": {},
   "cell_type": "markdown",
   "metadata": {},
   "source": [
    "# 66 MC\n",
    "> MC\n",
    "\n",
    "- toc: true \n",
    "- badges: true\n",
    "- comments: true\n",
    "- categories: [jupyter]\n",
    "- image: "
   ]
  },
  {
   "attachments": {},
   "cell_type": "markdown",
   "metadata": {},
   "source": [
    "Score: 53/66\n",
    "I think I started to fail at the end. I think that I need to practice sitting down and testing for a longer period of time because I wasn't doing it all in one go. \n",
    "![image.png](images/score.png)\n"
   ]
  },
  {
   "attachments": {},
   "cell_type": "markdown",
   "metadata": {},
   "source": [
    "Q12:\n",
    "\n",
    "![image.png](images/12.png)\n",
    "\n",
    "I chose B because I thought that or would be right. However, A is the right answer. B is wrong because it is always going to be either or, which is not what we want. "
   ]
  },
  {
   "attachments": {},
   "cell_type": "markdown",
   "metadata": {},
   "source": [
    "Q19:\n",
    "![image.png](images/19.png)\n",
    "I chose C because I thought that it being and would make it equal. However, it is not right because it is equal to or greater than. I didn't convert demorgans right. "
   ]
  },
  {
   "attachments": {},
   "cell_type": "markdown",
   "metadata": {},
   "source": [
    "Q20:\n",
    "![image.png](images/20.png)\n",
    "\n",
    "I chose C because I thought that it would be offset. However, it would end up ending too early, and printing a digit short. "
   ]
  },
  {
   "attachments": {},
   "cell_type": "markdown",
   "metadata": {},
   "source": [
    "Q25\n",
    "\n",
    "![image.png](images/25.png)\n",
    "\n",
    "I chose C because I thought that it didn't have a parameter, however, there is a parameter used. B is correct because updateItems does not hae a return type, nothing is returned. "
   ]
  },
  {
   "attachments": {},
   "cell_type": "markdown",
   "metadata": {},
   "source": [
    "Q34\n",
    "\n",
    "![image.png](images/34.png)\n",
    "\n",
    "I chose A because I thought that it would add the 2 multiplied by the number k, however, it does not do that. D is right because it multiplies it by the value of the array. "
   ]
  },
  {
   "attachments": {},
   "cell_type": "markdown",
   "metadata": {},
   "source": [
    "Q36:\n",
    "\n",
    "![image.png](images/36.png)\n",
    "\n",
    "I chose E because I thought that both arraylist locations would be wrong, but it is onl line 4 which is wrong. "
   ]
  },
  {
   "attachments": {},
   "cell_type": "markdown",
   "metadata": {},
   "source": [
    "Q41:\n",
    "![image.png](images/41.png)\n",
    "\n",
    "I chose D because I ran through it wrong. D returns 12, instead of the 11 that is wanted. "
   ]
  },
  {
   "attachments": {},
   "cell_type": "markdown",
   "metadata": {},
   "source": [
    "Q56: \n",
    "![image.png](images/56.png)\n",
    "\n",
    "I chose B because I thought that there was an issue with the while statement, but there should be an else after the if statement. "
   ]
  },
  {
   "attachments": {},
   "cell_type": "markdown",
   "metadata": {},
   "source": [
    "Q64:\n",
    "![image.png](images/64.png)\n",
    "\n",
    "\n",
    "I chose C because I didn't really understand the for loop. "
   ]
  },
  {
   "attachments": {},
   "cell_type": "markdown",
   "metadata": {},
   "source": [
    "Q65: \n",
    "![image.png](images/65.png)\n",
    "\n",
    "I chose C because I thought that it would add up to 105. However, I did my math wrong because it is supposed to be 115"
   ]
  },
  {
   "attachments": {},
   "cell_type": "markdown",
   "metadata": {},
   "source": [
    "Q66: \n",
    "![image.png](images/66.png)\n",
    "\n",
    "I chose C because I thought that it would be the same thing. However, it should be printed and then incremented, like it is shown in B. "
   ]
  }
 ],
 "metadata": {
  "kernelspec": {
   "display_name": "Java",
   "language": "java",
   "name": "java"
  },
  "language_info": {
   "name": "java",
   "version": "3.8.10 (default, Jun 22 2022, 20:18:18) \n[GCC 9.4.0]"
  },
  "orig_nbformat": 4,
  "vscode": {
   "interpreter": {
    "hash": "916dbcbb3f70747c44a77c7bcd40155683ae19c65e1c03b4aa3499c5328201f1"
   }
  }
 },
 "nbformat": 4,
 "nbformat_minor": 2
}
