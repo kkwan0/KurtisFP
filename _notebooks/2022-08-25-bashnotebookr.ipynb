{
 "cells": [
  {
   "cell_type": "markdown",
   "metadata": {},
   "source": [
    "# Bash ting\n",
    "> Bash \n",
    "\n",
    "- toc: true \n",
    "- badges: true\n",
    "- comments: true\n",
    "- categories: [jupyter]\n",
    "- image: images/AVO.png"
   ]
  },
  {
   "cell_type": "code",
   "execution_count": 6,
   "metadata": {
    "vscode": {
     "languageId": "shellscript"
    }
   },
   "outputs": [
    {
     "name": "stdout",
     "output_type": "stream",
     "text": [
      "/home/k/vscode/KurtisFP/_notebooks\n",
      " _______________________________________\n",
      "< Are you sure the back door is locked? >\n",
      " ---------------------------------------\n",
      "        \\   ^__^\n",
      "         \\  (oo)\\_______\n",
      "            (__)\\       )\\/\\\n",
      "                ||----w |\n",
      "                ||     ||\n",
      "#!/bin/bash\n",
      "fortune | cowsay\n",
      "cat ~/vscode/bash.sh\n",
      "#start of script\n",
      "jupyter kernelspec list\n",
      "Available kernels:\n",
      "  bash          /home/k/.local/share/jupyter/kernels/bash\n",
      "  java          /home/k/.local/share/jupyter/kernels/java\n",
      "  javascript    /home/k/.local/share/jupyter/kernels/javascript\n",
      "  python3       /home/k/anaconda3/share/jupyter/kernels/python3\n",
      "Python 3.9.1204l\n",
      "conda 4.14.0004l\n",
      "/home/k/.vscode-server/bin/e4503b30fc78200f846c62cf8091b76ff5547662/bin/remote-cli/code\n",
      "\u001b[?2004h"
     ]
    },
    {
     "ename": "",
     "evalue": "1",
     "output_type": "error",
     "traceback": []
    }
   ],
   "source": [
    "#!/bin/bash\n",
    "realpath .\n",
    "bash ~/vscode/bash.sh\n",
    "python --version\n",
    "conda --version\n",
    "which code # vscode\n"
   ]
  }
 ],
 "metadata": {
  "kernelspec": {
   "display_name": "Bash",
   "language": "bash",
   "name": "bash"
  },
  "language_info": {
   "codemirror_mode": "shell",
   "file_extension": ".sh",
   "mimetype": "text/x-sh",
   "name": "bash"
  },
  "orig_nbformat": 4,
  "vscode": {
   "interpreter": {
    "hash": "916dbcbb3f70747c44a77c7bcd40155683ae19c65e1c03b4aa3499c5328201f1"
   }
  }
 },
 "nbformat": 4,
 "nbformat_minor": 2
}
