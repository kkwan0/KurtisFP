{
 "cells": [
  {
   "attachments": {},
   "cell_type": "markdown",
   "metadata": {},
   "source": [
    "# 39 MC\n",
    "> 39 question mc\n",
    "\n",
    "- toc: true \n",
    "- badges: true\n",
    "- comments: true\n",
    "- categories: [jupyter]\n",
    "- image: "
   ]
  },
  {
   "attachments": {},
   "cell_type": "markdown",
   "metadata": {},
   "source": [
    "39 question MC: ![image](https://user-images.githubusercontent.com/28553165/224614830-17aef449-1595-4bcc-a8aa-1957756d952b.png)\n",
    "\n",
    "score: 34/39"
   ]
  },
  {
   "attachments": {},
   "cell_type": "markdown",
   "metadata": {},
   "source": [
    "15: ![image](https://user-images.githubusercontent.com/28553165/224614911-b4b3f3d0-dffe-4c96-96b5-588610c730a9.png)\n",
    "I chose E because I thought that it would print all the steps on the way, but it wouldn't. So A is the right answer. "
   ]
  },
  {
   "attachments": {},
   "cell_type": "markdown",
   "metadata": {},
   "source": [
    "16: ![image](https://user-images.githubusercontent.com/28553165/224615012-b7695eba-e925-464d-83e0-f8db6220fe02.png)\n",
    "\n",
    "I chose C because I thought that it would iterate the rows of the array, but it would iterate the columns of the array. "
   ]
  },
  {
   "attachments": {},
   "cell_type": "markdown",
   "metadata": {},
   "source": [
    "17: ![image](https://user-images.githubusercontent.com/28553165/224615090-98236505-573a-49b2-9668-1dc2cd19b77e.png)\n",
    "\n",
    "I chose C because I saw the +2 and I thought that it would add all the even numbers, but it was actually going to add all the odd numbers. "
   ]
  },
  {
   "attachments": {},
   "cell_type": "markdown",
   "metadata": {},
   "source": [
    "28: ![image](https://user-images.githubusercontent.com/28553165/224615229-2f695eb6-73f9-4377-b4d1-cafbe005f4d1.png)\n",
    "\n",
    "I chose C because I thought that it would evaluate all the iterations not the outside ones, so it would be minus one. "
   ]
  },
  {
   "attachments": {},
   "cell_type": "markdown",
   "metadata": {},
   "source": [
    "37: ![image](https://user-images.githubusercontent.com/28553165/224615404-dce5dcb0-d350-43b8-a317-94ec10d14c06.png)\n",
    "\n",
    "I chose B because I checked through III and I didn't find it to fit the model, but it turns out that it would fit. So the right answer is E. "
   ]
  }
 ],
 "metadata": {
  "kernelspec": {
   "display_name": "Java",
   "language": "java",
   "name": "java"
  },
  "language_info": {
   "name": "java"
  },
  "orig_nbformat": 4
 },
 "nbformat": 4,
 "nbformat_minor": 2
}
