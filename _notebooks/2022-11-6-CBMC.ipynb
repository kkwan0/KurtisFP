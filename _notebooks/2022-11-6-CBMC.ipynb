{
 "cells": [
  {
   "cell_type": "markdown",
   "metadata": {},
   "source": [
    "# CB Multiple Choice\n",
    "> college board Practice MC\n",
    "\n",
    "- toc: true \n",
    "- badges: true\n",
    "- comments: true\n",
    "- categories: [jupyter]\n",
    "- image: images/mc/score.png"
   ]
  },
  {
   "cell_type": "markdown",
   "metadata": {},
   "source": [
    "#Score: 34/40\n",
    "images/mc/score.png"
   ]
  },
  {
   "cell_type": "markdown",
   "metadata": {},
   "source": [
    "#Corrections:\n",
    "images/mc/Q4.png\n",
    "\n",
    "#Q4: I chose D because I swapped the x and the y around. So I would end up dividing 3 by 7."
   ]
  },
  {
   "cell_type": "markdown",
   "metadata": {},
   "source": [
    "#Q5: \n",
    "images/mc/Q5.png\n",
    "\n",
    "I chose B because I thought that k started at 0. I didn’t read the question carefully"
   ]
  },
  {
   "cell_type": "markdown",
   "metadata": {},
   "source": [
    "#Q8:\n",
    "images/mc/Q8.png\n",
    "\n",
    "I chose A because I didn’t carefully put in II. I initially thought that only I would fit. C is the right answer because II also fits. II fits because it will also compile the age, since the age is not a string. "
   ]
  },
  {
   "cell_type": "markdown",
   "metadata": {},
   "source": [
    "#Q15: \n",
    "images/mc/Q26.png\n",
    "\n",
    "I chose C because I thought that it would be able to go through the array. However, in an enhanced for loop x is a value, and this answer uses it as an index. A is the right answer because it prints x. "
   ]
  },
  {
   "cell_type": "markdown",
   "metadata": {},
   "source": [
    "#Q31: \n",
    "images/mc/Q31.png\n",
    "\n",
    "I chose B because I made a mistake when choosing the answer. I meant to choose C, but I think that my hand slipped. "
   ]
  },
  {
   "cell_type": "markdown",
   "metadata": {},
   "source": [
    "Reflection: I think that I did pretty well. I think that a 33/40 is a pretty good score. However, I think that I could have done better because most of the mistakes that I made are simple mistakes. If I take a couple more I think that I will be able to knock out some of these simple mistakes."
   ]
  }
 ],
 "metadata": {
  "kernelspec": {
   "display_name": "Java",
   "language": "java",
   "name": "java"
  },
  "language_info": {
   "name": "java"
  },
  "orig_nbformat": 4
 },
 "nbformat": 4,
 "nbformat_minor": 2
}
