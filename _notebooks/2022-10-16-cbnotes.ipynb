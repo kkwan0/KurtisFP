{
 "cells": [
  {
   "cell_type": "code",
   "execution_count": null,
   "metadata": {},
   "outputs": [],
   "source": [
    "# CB units 1 and 2\n",
    "> college board units 1 and 2\n",
    "\n",
    "- toc: true \n",
    "- badges: true\n",
    "- comments: true\n",
    "- categories: [jupyter]\n",
    "- image: "
   ]
  },
  {
   "cell_type": "markdown",
   "metadata": {},
   "source": [
    "##Unit 1 Primitavees\n",
    "\n",
    "#String literal - an sequence of characters between two quotation marks\n",
    "Different Errors\n",
    "-Syntax/compiler error: program won't compile due to typos\n",
    "-Exception\n",
    "-Logic error: actual output differs from anticipated output\n",
    "#Data Types\n",
    "-Determine what type of value is stored ### Variables\n",
    "-variable: name for memory location holding a certain type of value\n",
    "-no spaces\n",
    "-can't start with #\n",
    "-no special characters (anything besides letters/digits)\n",
    "-no Java reserved keywords\n",
    "-use camelCase conventions #### Declaring\n",
    "-assignment operator (=) is used to initialize variable or change its associated value ### Primitive\n",
    "Examples:\n",
    "-boolean (1 bit)\n",
    "-int (32 bits)\n",
    "-if the integer result of an expression is beyond the range there will be an overflow error\n",
    "-double (64 bits) ### Reference\n",
    "Arthmetic Operators\n",
    "-INCLUDES: +, -, *, /, %\n",
    "-operations with only int ==> output int\n",
    "-operations with only double ==> output double\n",
    "-operations with both int and double ==> * output double\n",
    "-division by zero ==> ArithmeticException\n",
    "Compound Assignment Operators and Incrememt/Decrement Operators\n",
    "-+=, -=, *=, /=, %=\n",
    "-Using these will change the value of the variable to the result of the operation\n",
    "-Increment/Decrement:\n",
    "- ++: adds 1\n",
    "- --: subtracts 1"
   ]
  },
  {
   "cell_type": "markdown",
   "metadata": {},
   "source": [
    "#Unit 2 Using Objects\n",
    "Constructors\n",
    "-Used to initialize attributes for an object\n",
    "\n",
    "Vocab\n",
    "-signature: constructor name and parameter list\n",
    "\n",
    "-parameter list: lists type of values passed and their variable names (formal parameters)\n",
    "\n",
    "-parameter: value passed into a constructor (actual parameters), must match types specified in parameter list\n",
    "call by value: initializes formal parameters with copies of the actual parameters\n",
    "overloaded constructors: there are multiple constructors with same name, differing signatures\n",
    "\n",
    "-no argument constructor: constructor with no parameters, sets attributes (instance variables) of object to default values\n",
    "\n",
    "-String: null\n",
    "-boolean: false\n",
    "-null: variable reference doesn't actually contain an object"
   ]
  }
 ],
 "metadata": {
  "kernelspec": {
   "display_name": "Python 3.8.10 64-bit",
   "language": "python",
   "name": "python3"
  },
  "language_info": {
   "name": "python",
   "version": "3.8.10"
  },
  "orig_nbformat": 4,
  "vscode": {
   "interpreter": {
    "hash": "916dbcbb3f70747c44a77c7bcd40155683ae19c65e1c03b4aa3499c5328201f1"
   }
  }
 },
 "nbformat": 4,
 "nbformat_minor": 2
}
