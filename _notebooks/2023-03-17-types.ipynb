{
 "cells": [
  {
   "cell_type": "markdown",
   "metadata": {},
   "source": [
    "# Generic Types and collections\n",
    "> types and collectiosn\n",
    "\n",
    "- toc: true \n",
    "- badges: true\n",
    "- comments: true\n",
    "- categories: [jupyter]\n",
    "- image: "
   ]
  },
  {
   "attachments": {},
   "cell_type": "markdown",
   "metadata": {},
   "source": [
    "Generic Types Hacks: "
   ]
  },
  {
   "attachments": {},
   "cell_type": "markdown",
   "metadata": {},
   "source": [
    "### Example Code for Linked List, Queues, Stacks"
   ]
  },
  {
   "attachments": {},
   "cell_type": "markdown",
   "metadata": {},
   "source": [
    "## Linked Lists"
   ]
  },
  {
   "cell_type": "code",
   "execution_count": 3,
   "metadata": {
    "vscode": {
     "languageId": "java"
    }
   },
   "outputs": [
    {
     "ename": "CompilationException",
     "evalue": "",
     "output_type": "error",
     "traceback": [
      "\u001b[1m\u001b[30m|   \u001b[1m\u001b[30m\u001b[0m\u001b[1m\u001b[30m\u001b[41m\u001b[0m\u001b[1m\u001b[30m\u001b[0m",
      "\u001b[1m\u001b[31ma type with the same simple name is already defined by the single-type-import of java.util.LinkedList\u001b[0m",
      "",
      "\u001b[1m\u001b[30m|   \u001b[1m\u001b[30m        \u001b[0m\u001b[1m\u001b[30m\u001b[41mLinkedList\u001b[0m\u001b[1m\u001b[30m<Integer> list = new LinkedList<Integer>();\u001b[0m",
      "\u001b[1m\u001b[31mreference to LinkedList is ambiguous\u001b[0m",
      "\u001b[1m\u001b[31m  both class java.util.LinkedList in java.util and class LinkedList in  match\u001b[0m",
      "",
      "\u001b[1m\u001b[30m|   \u001b[1m\u001b[30m        LinkedList<Integer> list = new \u001b[0m\u001b[1m\u001b[30m\u001b[41mLinkedList\u001b[0m\u001b[1m\u001b[30m<Integer>();\u001b[0m",
      "\u001b[1m\u001b[31mreference to LinkedList is ambiguous\u001b[0m",
      "\u001b[1m\u001b[31m  both class java.util.LinkedList in java.util and class LinkedList in  match\u001b[0m",
      ""
     ]
    }
   ],
   "source": []
  },
  {
   "attachments": {},
   "cell_type": "markdown",
   "metadata": {},
   "source": [
    "## Queue and how its printing the que"
   ]
  },
  {
   "cell_type": "code",
   "execution_count": 3,
   "metadata": {
    "vscode": {
     "languageId": "java"
    }
   },
   "outputs": [
    {
     "name": "stdout",
     "output_type": "stream",
     "text": [
      "Empty Queue\n",
      "apple\n",
      "banana\n",
      "cherry\n",
      "Iterate over Array\n",
      "apple\n",
      "banana\n",
      "cherry\n"
     ]
    }
   ],
   "source": [
    "Queue<String> queue = new LinkedList<>();\n",
    "\n",
    "// Adding elements to the queue\n",
    "queue.add(\"apple\");\n",
    "queue.add(\"banana\");\n",
    "queue.add(\"cherry\");\n",
    "\n",
    "Object[] arr = queue.toArray();\n",
    "\n",
    "// Empty queue\n",
    "System.out.println(\"Empty Queue\");\n",
    "while (queue.size() > 0) // Interate while size\n",
    "    System.out.println(queue.remove());\n",
    "\n",
    "// Iterate of array\n",
    "System.out.println(\"Iterate over Array\");\n",
    "for (Object a : arr) // Type is Object from convertion\n",
    "    System.out.println(a);"
   ]
  },
  {
   "attachments": {},
   "cell_type": "markdown",
   "metadata": {},
   "source": [
    "### Code Hack challenges"
   ]
  },
  {
   "cell_type": "code",
   "execution_count": null,
   "metadata": {
    "vscode": {
     "languageId": "java"
    }
   },
   "outputs": [],
   "source": []
  },
  {
   "cell_type": "code",
   "execution_count": 40,
   "metadata": {
    "vscode": {
     "languageId": "java"
    }
   },
   "outputs": [
    {
     "name": "stdout",
     "output_type": "stream",
     "text": [
      "10\n",
      "20\n",
      "30\n",
      "40\n"
     ]
    }
   ],
   "source": [
    "public class LinkedList<T>\n",
    "{\n",
    "    private T data;\n",
    "    private LinkedList<T> prevNode, nextNode;\n",
    "\n",
    "    /**\n",
    "     *  Constructs a new element\n",
    "     *\n",
    "     * @param  data, data of object\n",
    "     * @param  node, previous node\n",
    "     */\n",
    "    public LinkedList(T data, LinkedList<T> node)\n",
    "    {\n",
    "        this.setData(data);\n",
    "        this.setPrevNode(node);\n",
    "        this.setNextNode(null);\n",
    "    }\n",
    "\n",
    "    /**\n",
    "     *  Clone an object,\n",
    "     *\n",
    "     * @param  node  object to clone\n",
    "     */\n",
    "    public LinkedList(LinkedList<T> node)\n",
    "    {\n",
    "        this.setData(node.data);\n",
    "        this.setPrevNode(node.prevNode);\n",
    "        this.setNextNode(node.nextNode);\n",
    "    }\n",
    "\n",
    "    /**\n",
    "     *  Setter for T data in DoubleLinkedNode object\n",
    "     *\n",
    "     * @param  data, update data of object\n",
    "     */\n",
    "    public void setData(T data)\n",
    "    {\n",
    "        this.data = data;\n",
    "    }\n",
    "\n",
    "    /**\n",
    "     *  Returns T data for this element\n",
    "     *\n",
    "     * @return  data associated with object\n",
    "     */\n",
    "    public T getData()\n",
    "    {\n",
    "        return this.data;\n",
    "    }\n",
    "\n",
    "    /**\n",
    "     *  Setter for prevNode in DoubleLinkedNode object\n",
    "     *\n",
    "     * @param node, prevNode to current Object\n",
    "     */\n",
    "    public void setPrevNode(LinkedList<T> node)\n",
    "    {\n",
    "        this.prevNode = node;\n",
    "    }\n",
    "\n",
    "    /**\n",
    "     *  Setter for nextNode in DoubleLinkedNode object\n",
    "     *\n",
    "     * @param node, nextNode to current Object\n",
    "     */\n",
    "    public void setNextNode(LinkedList<T> node)\n",
    "    {\n",
    "        this.nextNode = node;\n",
    "    }\n",
    "\n",
    "\n",
    "    /**\n",
    "     *  Returns reference to previous object in list\n",
    "     *\n",
    "     * @return  the previous object in the list\n",
    "     */\n",
    "    public LinkedList<T> getPrevious()\n",
    "    {\n",
    "        return this.prevNode;\n",
    "    }\n",
    "\n",
    "    /**\n",
    "     *  Returns reference to next object in list\n",
    "     *\n",
    "     * @return  the next object in the list\n",
    "     */\n",
    "    public LinkedList<T> getNext()\n",
    "    {\n",
    "        return this.nextNode;\n",
    "    }\n",
    "\n",
    "    public static void main(String[] args) {\n",
    "        LinkedList<Integer> head = new LinkedList<>(null, null);  // create a new empty list\n",
    "    \n",
    "        // add some values\n",
    "        LinkedList<Integer> node1 = new LinkedList<>(10, null);\n",
    "        LinkedList<Integer> node2 = new LinkedList<>(20, null);\n",
    "        LinkedList<Integer> node3 = new LinkedList<>(30, null);\n",
    "        LinkedList<Integer> node4 = new LinkedList<>(40, null);\n",
    "    \n",
    "        head.setNextNode(node1); // set the head's nextNode to the first node\n",
    "        node1.setNextNode(node2);\n",
    "        node2.setNextNode(node3);\n",
    "        node3.setNextNode(node4);\n",
    "    \n",
    "        // print out the values\n",
    "        LinkedList<Integer> current = head.getNext();\n",
    "        while (current != null) {\n",
    "            System.out.println(current.getData());\n",
    "            current = current.getNext();\n",
    "        }\n",
    "    }\n",
    "    \n",
    "    \n",
    "}\n",
    "LinkedList.main(null);\n"
   ]
  },
  {
   "cell_type": "code",
   "execution_count": 4,
   "metadata": {
    "vscode": {
     "languageId": "java"
    }
   },
   "outputs": [],
   "source": []
  },
  {
   "cell_type": "code",
   "execution_count": 6,
   "metadata": {
    "vscode": {
     "languageId": "java"
    }
   },
   "outputs": [
    {
     "name": "stdout",
     "output_type": "stream",
     "text": [
      "Words count: 7\n",
      "Words data: seven slimy snakes sallying slowly slithered southward \n",
      "Integers count: 10\n",
      "Integers data: 0 1 2 3 4 5 6 7 8 9 \n"
     ]
    }
   ],
   "source": [
    "/**\n",
    " * Driver Class\n",
    " * Tests queue with string, integers, and mixes of Classes and types\n",
    " */\n",
    "class QueueTester {\n",
    "    public static void main(String[] args)\n",
    "    {\n",
    "        // Create iterable Queue of Words\n",
    "        Object[] words = new String[] { \"seven\", \"slimy\", \"snakes\", \"sallying\", \"slowly\", \"slithered\", \"southward\"};\n",
    "        QueueManager qWords = new QueueManager(\"Words\", words );\n",
    "        qWords.printQueue();\n",
    "        Queue.delete\n",
    "\n",
    "        // Create iterable Queue of Integers\n",
    "        Object[] numbers = new Integer[] { 0, 1, 2, 3, 4, 5, 6, 7, 8, 9};\n",
    "        QueueManager qNums = new QueueManager(\"Integers\", numbers );\n",
    "        qNums.printQueue();\n",
    "\n",
    "        // Create iterable Queue of NCS Generics\n",
    "        \n",
    "        // Illustrates use of a series of repeating arguments\n",
    "        \n",
    "\n",
    "        // Create iterable Queue of Mixed types of data\n",
    "        \n",
    "    }\n",
    "}\n",
    "QueueTester.main(null);"
   ]
  }
 ],
 "metadata": {
  "kernelspec": {
   "display_name": "Java",
   "language": "java",
   "name": "java"
  },
  "language_info": {
   "codemirror_mode": "java",
   "file_extension": ".jshell",
   "mimetype": "text/x-java-source",
   "name": "Java",
   "pygments_lexer": "java",
   "version": "17.0.5+8-Ubuntu-2ubuntu120.04"
  },
  "orig_nbformat": 4
 },
 "nbformat": 4,
 "nbformat_minor": 2
}
