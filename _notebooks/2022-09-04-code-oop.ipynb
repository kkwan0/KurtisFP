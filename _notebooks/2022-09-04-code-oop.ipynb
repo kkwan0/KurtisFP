{
 "cells": [
  {
   "cell_type": "markdown",
   "metadata": {},
   "source": [
    "# Objects in Java\n",
    "> JAVA object\n",
    "\n",
    "- toc: true \n",
    "- badges: true\n",
    "- comments: true\n",
    "- categories: [jupyter]\n",
    "- image: "
   ]
  },
  {
   "cell_type": "markdown",
   "metadata": {},
   "source": [
    "Mort's console menu. I just looked over it and added some comments on what I understood."
   ]
  },
  {
   "cell_type": "code",
   "execution_count": 3,
   "metadata": {},
   "outputs": [
    {
     "name": "stdout",
     "output_type": "stream",
     "text": [
      "-------------------------\n",
      "\n",
      "Choose from these choices\n",
      "-------------------------\n",
      "\n",
      "1 - Say Hello\n",
      "2 - Output colors\n",
      "3 - Loading in color\n",
      "0 - Quit\n",
      "-------------------------\n",
      "\n",
      "2: \u001b[0mDefault\u001b[31mRed\u001b[32mGreen\u001b[0;93mYellow\u001b[34mBlue\u001b[35mPurple\u001b[36mCyan\u001b[37mWhite\u001b[0m\n",
      "2: \u001b[0mDefault\u001b[31mRed\u001b[32mGreen\u001b[0;93mYellow\u001b[34mBlue\u001b[35mPurple\u001b[36mCyan\u001b[37mWhite\u001b[0m\n",
      "3: Loading...\u001b[35m#\u001b[36m#\u001b[37m#\u001b[0m#\u001b[36m#\u001b[36m#\u001b[0;93m#\u001b[37m#\u001b[35m#\u001b[34m#\u001b[0;93m#\u001b[0;93m#\u001b[34m#\u001b[32m#\u001b[32m#\u001b[36m#\u001b[32m#\u001b[0;93m#\u001b[37m#\u001b[32m#\u001b[0m\n",
      "0: exit\u001b[0m\n"
     ]
    }
   ],
   "source": [
    "import java.util.Scanner; // scanner thing for inputs\n",
    "import java.lang.Math; // random numbers\n",
    "\n",
    "\n",
    "public class Menu {\n",
    "    public final String DEFAULT = \"\\u001B[0m\";  // Default Terminal Color\n",
    "    public final String[][] COLORS = { // 2D Array of ANSI Terminal Colors, keyword array\n",
    "        {\"Default\",DEFAULT},\n",
    "        {\"Red\", \"\\u001B[31m\"}, \n",
    "        {\"Green\", \"\\u001B[32m\"}, \n",
    "        {\"Yellow\", \"\\033[0;93m\"}, \n",
    "        {\"Blue\", \"\\u001B[34m\"}, \n",
    "        {\"Purple\", \"\\u001B[35m\"}, \n",
    "        {\"Cyan\", \"\\u001B[36m\"}, \n",
    "        {\"White\", \"\\u001B[37m\"}, \n",
    "    };\n",
    "    // 2D column location for data\n",
    "    public final int NAME = 0;\n",
    "    public final int ANSI = 1;  // ANSI is the \"standard\" for terminal codes\n",
    "\n",
    "    // Constructor on this Object takes control of menu events and actions\n",
    "    public Menu() {\n",
    "        Scanner sc = new Scanner(System.in);  // using Java Scanner Object\n",
    "        \n",
    "        this.print();  // print Menu\n",
    "        boolean quit = false;\n",
    "        while (!quit) {\n",
    "            try {  // scan for Input\n",
    "                int choice = sc.nextInt();  // using method from Java Scanner Object\n",
    "                System.out.print(\"\" + choice + \": \");\n",
    "                quit = this.action(choice);  // take action\n",
    "            } catch (Exception e) {\n",
    "                sc.nextLine(); // error: clear buffer\n",
    "                System.out.println(e + \": Not a number, try again.\");\n",
    "            }\n",
    "        }\n",
    "        sc.close();\n",
    "    }\n",
    "\n",
    "    // Print the menu options to Terminal\n",
    "    private void print() {\n",
    "        //System.out.println commands below is used to present a Menu to the user. \n",
    "        System.out.println(\"-------------------------\\n\");\n",
    "        System.out.println(\"Choose from these choices\");\n",
    "        System.out.println(\"-------------------------\\n\");\n",
    "        System.out.println(\"1 - Hello World\");\n",
    "        System.out.println(\"2 - Output colors\");\n",
    "        System.out.println(\"3 - Loading in color\");\n",
    "        System.out.println(\"0 - Quit\");\n",
    "        System.out.println(\"-------------------------\\n\");\n",
    "    }\n",
    "\n",
    "    // Private method to perform action and return true if action is to quit/exit\n",
    "    private boolean action(int selection) {\n",
    "        boolean quit = false;\n",
    "\n",
    "        switch (selection) {  // Switch or Switch/Case is Control Flow statement and is used to evaluate the user selection\n",
    "            case 0:  \n",
    "                System.out.print(\"exit\");\n",
    "                quit = true;\n",
    "                break;\n",
    "            case 1:\n",
    "                System.out.print(\"helloworld\");\n",
    "                break;\n",
    "            case 2:\n",
    "                for(int i = 0; i < COLORS.length; i++)  // loop through COLORS array\n",
    "                    System.out.print(COLORS[i][ANSI] + COLORS[i][NAME]); //prints the name with the colors\n",
    "                break;\n",
    "            case 3:\n",
    "                System.out.print(\"Loading...\");\n",
    "                for (int i = 0; i < 20; i++) {  // fixed length loading bar\n",
    "                    int random = (int) (Math.random() * COLORS.length);  // random logic * \n",
    "                    try {\n",
    "                        Thread.sleep(100);  // delay for loading\n",
    "                    } catch (Exception e) {\n",
    "                        System.out.println(e);\n",
    "                    }\n",
    "                    System.out.print(COLORS[random][ANSI] + \"-\");\n",
    "                }\n",
    "                break;\n",
    "                    \n",
    "            default:\n",
    "                //Prints error message from console\n",
    "                System.out.print(\"Unexpected choice, try again.\");\n",
    "        }\n",
    "        System.out.println(DEFAULT);  // make sure to reset color and provide new line\n",
    "        return quit;\n",
    "    }\n",
    "\n",
    "    // Static driver/tester method\n",
    "    static public void main(String[] args)  {  \n",
    "        new Menu(); // starting Menu object\n",
    "    }\n",
    "\n",
    "}\n",
    "Menu.main(null);"
   ]
  },
  {
   "cell_type": "markdown",
   "metadata": {},
   "source": [
    "#Unit 2:\n",
    " \n",
    "Using main, syntax of the header. Meaning of the words: \n",
    "JVM - java virtual management, loads and executes the code code code\n",
    "Public - method needs to be public for JVM to identify it\n",
    "Static - only one type of method, not shared. \n",
    "Void - nothing returned from main method\n",
    "Main - identified by JVM to execute any program\n",
    "\n",
    "```\n",
    "public class ClassName {\n",
    "public static void main(String [] args) {\n",
    "\n",
    "}\n",
    "}\n",
    "```\n"
   ]
  },
  {
   "cell_type": "markdown",
   "metadata": {},
   "source": [
    "#Unit 3:\n",
    "\n",
    "This one talks a bit more about setting up the scenario of a neighborhood painter. It also talks about using objects. \n",
    "\n",
    "```\n",
    "ClassName objectName = new ClassName();\n",
    "```\n"
   ]
  },
  {
   "cell_type": "markdown",
   "metadata": {},
   "source": [
    "#Unit 4:\n",
    "\n",
    "Describes a method, which is a “class’s behaviors”\n",
    "\n",
    "Procedural abstraction - allows programmer to use method by knowing what method does\n",
    "Void method - method that performs action, but doesn’t return value\n",
    "Argument - value passed to method or constructor when method is called\n",
    "Dot operator - used to call method in class\n",
    "Method - named set of instructions to perform a task\n",
    "Parameter - variable in method signature that defines type of value to receive when method is called\n"
   ]
  },
  {
   "cell_type": "markdown",
   "metadata": {},
   "source": [
    "#Unit 5: \n",
    "\n",
    "Use if statements. \n",
    "\n",
    "Boolean - primitive that is either true or false\n",
    "If statement - conditional statement that executes when condition is true\n",
    "Condition - determines when to execute code code code\n",
    "Conditional statement - statement that executes when condition is met\n",
    "Logic error - error that occurs when code(x3) runs, but doesn’t do what is expected\n",
    "Return - exit method and go back to a point in program that called it\n"
   ]
  },
  {
   "cell_type": "markdown",
   "metadata": {},
   "source": [
    "#Unit 6: \n",
    "\n",
    "Learn about inheritance.\n",
    "\n",
    "Super keyword - keyword used to refer to superclass\n",
    "constructor signature - first line of constructor which includes public keyword, constructor name, and values to specify when object is created\n",
    "Inheritance - an OOP principle where subclass inherits attributes and behaviors of superclass\n",
    "Subclass - class that extends a superclass and inherits its attributes and behaviors\n",
    "Superclass - class that can create subclasses\n"
   ]
  },
  {
   "cell_type": "markdown",
   "metadata": {},
   "source": [
    "#Unit 7: \n",
    "\n",
    "How to create a new method. \n",
    "\n",
    "Method signature - name and parameter list\n"
   ]
  },
  {
   "cell_type": "markdown",
   "metadata": {},
   "source": [
    "#Unit 8: \n",
    "\n",
    "Code review, feedback, and documentation\n",
    "\n",
    "Code review - process of examining code and giving feedback to improve code code code\n",
    "Comment - text note \n",
    "Documentation - written description of purpose of code code code\n",
    "Programming style - set of guidelines for formatting code code code\n"
   ]
  },
  {
   "cell_type": "markdown",
   "metadata": {},
   "source": [
    "#Unit 9: \n",
    "\n",
    "Repeat code. While loops.\n",
    "\n",
    "While loop - keeps executing code as long as condition is true\n",
    "Algorithm - instructions to solve a task\n",
    "Control structure - conditional statement that affects program\n",
    "Efficient - get the most with least amount of waste\n",
    "Infinite loop - loop where boolean is always true\n",
    "Iteration statement(loop) - control structure that repeatedly executes code\n",
    "Pseudocode - description of steps in algorithm that is not code code code\n"
   ]
  },
  {
   "cell_type": "markdown",
   "metadata": {},
   "source": [
    "#Unit 10: \n",
    "\n",
    "If statement, now we learn about the NOT. \n",
    "\n",
    "NOT operator - returns true when operend is false, and vice versa\n",
    "If else statement - executes one thing for if, executes something else for else. \n",
    "Logical operator - operator that returns boolean\n"
   ]
  },
  {
   "cell_type": "markdown",
   "metadata": {},
   "source": [
    "#Unit 11: \n",
    "\n",
    "How to use console debugging\n",
    "\n",
    "Concatenation - join 2 strings together\n"
   ]
  },
  {
   "cell_type": "markdown",
   "metadata": {},
   "source": [
    "#Unit 12: \n",
    "\n",
    "Decomposition and top down design, deconstruct problems into smaller tasks. \n",
    "\n",
    "Method decomposition - breaking down a problem into smaller parts to write methods for each part.\n",
    "\n",
    "Edge case - bug that occurs at highest or lowest end of range, or in extremes\n",
    "Redundant code - unnecessary code code code\n"
   ]
  },
  {
   "cell_type": "markdown",
   "metadata": {},
   "source": [
    "#Unit 13:\n",
    "\n",
    "Create additional subclasses with special behaviors\n",
    "\n",
    "Inheritance hierarchy - class serves as superclass for more than one subclass\n"
   ]
  },
  {
   "cell_type": "markdown",
   "metadata": {},
   "source": [
    "#Unit 14: \n",
    "\n",
    "How can I apply my OOP to expand my code code code. \n"
   ]
  },
  {
   "cell_type": "markdown",
   "metadata": {},
   "source": [
    "#Unit 15: \n",
    "\n",
    "I examine code. I also want code feedback. \n",
    "\n",
    "Open source code - code that is for free use\n"
   ]
  }
 ],
 "metadata": {
  "kernelspec": {
   "display_name": "Java",
   "language": "java",
   "name": "java"
  },
  "language_info": {
   "codemirror_mode": "java",
   "file_extension": ".jshell",
   "mimetype": "text/x-java-source",
   "name": "java",
   "pygments_lexer": "java",
   "version": "11.0.16+8-post-Ubuntu-0ubuntu120.04"
  },
  "orig_nbformat": 4
 },
 "nbformat": 4,
 "nbformat_minor": 2
}
