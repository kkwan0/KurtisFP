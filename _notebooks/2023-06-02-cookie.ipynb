{
 "cells": [
  {
   "cell_type": "code",
   "execution_count": null,
   "metadata": {},
   "outputs": [],
   "source": [
    "# COOKIE\n",
    "> Javascript Cookies\n",
    "\n",
    "- toc: true \n",
    "- badges: true\n",
    "- comments: true\n",
    "- categories: [jupyter]\n",
    "- image: "
   ]
  },
  {
   "attachments": {},
   "cell_type": "markdown",
   "metadata": {},
   "source": [
    "## What are Cookies\n",
    "\n",
    "Cookies are information that is stored locally in the browser. Since it is stored locally, the data will still be there even if you close the browser or reload the session. \n",
    "\n",
    "However, there are some cons of cookies. Namely, there isn't a lot of storage space allocated for cookies. Cookies are also a privacy concern because they store potentially private information. "
   ]
  },
  {
   "attachments": {},
   "cell_type": "markdown",
   "metadata": {},
   "source": [
    "## Main uses of Cookies in the case of a game\n",
    "\n",
    "In this game, we used cookies to store the scores of each play through. In order to do this, we need to know how to create cookies, as well as read cookies. "
   ]
  },
  {
   "cell_type": "code",
   "execution_count": null,
   "metadata": {},
   "outputs": [],
   "source": [
    "document.cookie = \"cookiename=value1\";"
   ]
  },
  {
   "attachments": {},
   "cell_type": "markdown",
   "metadata": {},
   "source": [
    "### Creating Cookies\n",
    "\n",
    "The \"cookiename\" is the name of the cookie, and the \"value1\" is the value of the cookie. However, by default, the session will delete the cookie when you close the browser. In order to stop this, a expiration date is needed. "
   ]
  },
  {
   "cell_type": "code",
   "execution_count": null,
   "metadata": {},
   "outputs": [],
   "source": [
    "document.cookie = \"cookiename=value1; expires=Thu, 18 Dec 2038 12:00:00 UTC\";"
   ]
  },
  {
   "attachments": {},
   "cell_type": "markdown",
   "metadata": {},
   "source": [
    "### Reading Cookies\n",
    "\n",
    "\n",
    "A variable can be set to the name and the value of the cookie. In this example, the name, value, and the expiration date are all variables. \n",
    "\n",
    "When a variable is set to document.cookie, it will return all cookies in the way of \"cookie1=value1; cookie2=value2;\" and so on."
   ]
  },
  {
   "cell_type": "code",
   "execution_count": null,
   "metadata": {},
   "outputs": [],
   "source": [
    "let x = document.cookie = cookieName + '=' + cookieValue + '; expires=' + daysToExpire + ';SameSite=None';\n",
    "\n",
    "var cookieString = document.cookie; //returns all cookies\n"
   ]
  },
  {
   "attachments": {},
   "cell_type": "markdown",
   "metadata": {},
   "source": [
    "### Deleting cookies\n",
    "\n",
    "To delete a cookie, just set the expiration date to a time before the current time. "
   ]
  },
  {
   "attachments": {},
   "cell_type": "markdown",
   "metadata": {},
   "source": [
    "function deleteCookie(cookieName) {\n",
    "      document.cookie = cookieName + '=; expires=Thu, 01 Jan 1970 00:00:00 UTC; path=/;';\n",
    "  }"
   ]
  },
  {
   "attachments": {},
   "cell_type": "markdown",
   "metadata": {},
   "source": [
    "### Creating a table\n",
    "\n",
    "To create a table containing all the cookie values, you would want to create a for loop that loops through all the values stored. After that, you create a column for the name, and another column for the value. \n"
   ]
  },
  {
   "cell_type": "code",
   "execution_count": null,
   "metadata": {},
   "outputs": [],
   "source": [
    "var tableBody = document.querySelector('#tablearr'); //pushes onto the table\n",
    "\n",
    "\n",
    "function tablegen() {\n",
    "    for (var i = 0; i < cookies.length; i++) {\n",
    "      var cookie = cookies[i].trim().split('='); //trim and split it up before and after the equal sign\n",
    "      var name = cookie[0]; //first half\n",
    "      var value = cookie[1]; //second half\n",
    "      \n",
    "      var row = document.createElement('tr');\n",
    "      var nameCell = document.createElement('td');\n",
    "      nameCell.textContent = name;\n",
    "      row.appendChild(nameCell); //adds the item\n",
    "  \n",
    "      var valueCell = document.createElement('td');\n",
    "      valueCell.textContent = value; //value of the cookie\n",
    "      row.appendChild(valueCell);\n",
    "      tableBody.appendChild(row);\n",
    "      \n",
    "      var deleteButtonCell = document.createElement('td');\n",
    "      var deleteButton = document.createElement('button'); //the butotn\n",
    "      deleteButton.textContent = 'rmove'; //text in button\n",
    "      deleteButton.addEventListener('click', function()\n",
    "      {\n",
    "        deleteCookie(name); //functino so that it doesn't run automatically\n",
    "      });\n",
    "      deleteButtonCell.appendChild(deleteButton);\n",
    "      row.appendChild(deleteButtonCell); //these 2 add the button\n",
    "    }\n",
    "  }"
   ]
  },
  {
   "attachments": {},
   "cell_type": "markdown",
   "metadata": {},
   "source": [
    "<table id=\"tablearr\">\n",
    "  <!-- Table headers or initial content -->\n",
    "  <tr>\n",
    "    <th>Session</th>\n",
    "    <th>Score</th> \n",
    "    <!-- in this example, there are only 2 columns, but if you wanted to have a third for the delete, just create another <th> tag.  -->\n",
    "  </tr>\n",
    "</table>\n"
   ]
  },
  {
   "attachments": {},
   "cell_type": "markdown",
   "metadata": {},
   "source": [
    "### High Score\n",
    "\n",
    "In the game, we had a high score function. We just created a cookie highscore, that everytime that the game reset, it would check if the current score was greater than the highscore, in which we replaced the highscore with that score. \n",
    "\n",
    "In order to return the high score, we had to have a function that would look for that highscore."
   ]
  },
  {
   "cell_type": "code",
   "execution_count": null,
   "metadata": {},
   "outputs": [],
   "source": [
    "function getHighScore() {\n",
    "    var cookieString = document.cookie; //returns all cookies\n",
    "    var cookieArray = cookieString.split(\";\"); //splits by ;, so it goes by each cookie.\n",
    "  \n",
    "    // Iterate over each cookie\n",
    "    for (var i = 0; i < cookieArray.length; i++) {\n",
    "      var cookie = cookieArray[i].trim();\n",
    "  \n",
    "      // Check if the cookie starts with the provided name\n",
    "      if (cookie.startsWith(\"highscore=\")) {\n",
    "        // Extract and return the cookie value\n",
    "        var score = parseInt(cookie.substring(\"highscore=\".length));    \n",
    "        return score;\n",
    "        }\n",
    "    }\n",
    "  \n",
    "    // Return null if the cookie is not found\n",
    "    console.log(\"notfound\");\n",
    "    return null;\n",
    "  }"
   ]
  }
 ],
 "metadata": {
  "kernelspec": {
   "display_name": "JavaScript (Node.js)",
   "language": "javascript",
   "name": "javascript"
  },
  "language_info": {
   "codemirror_mode": {
    "name": "ipython",
    "version": 3
   },
   "file_extension": ".py",
   "mimetype": "text/x-python",
   "name": "javascript",
   "nbconvert_exporter": "python",
   "pygments_lexer": "ipython3",
   "version": "3.9.6"
  }
 },
 "nbformat": 4,
 "nbformat_minor": 2
}
