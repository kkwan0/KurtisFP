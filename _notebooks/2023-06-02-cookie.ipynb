{
 "cells": [
  {
   "cell_type": "code",
   "execution_count": null,
   "metadata": {},
   "outputs": [],
   "source": [
    "# COOKIE\n",
    "> Javascript Cookies\n",
    "\n",
    "- toc: true \n",
    "- badges: true\n",
    "- comments: true\n",
    "- categories: [jupyter]\n",
    "- image: "
   ]
  },
  {
   "attachments": {},
   "cell_type": "markdown",
   "metadata": {},
   "source": [
    "## What are Cookies\n",
    "\n",
    "Cookies are information that is stored locally in the browser. Since it is stored locally, the data will still be there even if you close the browser or reload the session. \n",
    "\n",
    "However, there are some cons of cookies. Namely, there isn't a lot of storage space allocated for cookies. Cookies are also a privacy concern because they store potentially private information. "
   ]
  },
  {
   "attachments": {},
   "cell_type": "markdown",
   "metadata": {},
   "source": [
    "## Main uses of Cookies in the case of a game\n",
    "\n",
    "In this game, we used cookies to store the scores of each play through. In order to do this, we need to know how to create cookies, as well as read cookies. "
   ]
  },
  {
   "cell_type": "code",
   "execution_count": null,
   "metadata": {},
   "outputs": [
    {
     "ename": "",
     "evalue": "",
     "output_type": "error",
     "traceback": [
      "\u001b[1;31mFailed to start the Kernel. \n",
      "\u001b[1;31m/usr/local/lib/node_modules/ijavascript/node_modules/node-gyp-build/node-gyp-build.js:60\n",
      "\u001b[1;31m  throw new Error('No native build was found for ' + target + '\\n    loaded from: ' + dir + '\\n')\n",
      "\u001b[1;31m  ^\n",
      "\u001b[1;31m\n",
      "\u001b[1;31mError: No native build was found for platform=darwin arch=x64 runtime=electron abi=108 uv=1 libc=glibc node=18.16.0\n",
      "\u001b[1;31m    loaded from: /usr/local/lib/node_modules/ijavascript/node_modules/zeromq\n",
      "\u001b[1;31m\n",
      "\u001b[1;31m    at load.resolve.load.path (/usr/local/lib/node_modules/ijavascript/node_modules/node-gyp-build/node-gyp-build.js:60:9)\n",
      "\u001b[1;31m    at load (/usr/local/lib/node_modules/ijavascript/node_modules/node-gyp-build/node-gyp-build.js:22:30)\n",
      "\u001b[1;31m    at Object.<anonymous> (/usr/local/lib/node_modules/ijavascript/node_modules/zeromq/binding.js:1:43)\n",
      "\u001b[1;31m    at Module._compile (node:internal/modules/cjs/loader:1254:14)\n",
      "\u001b[1;31m    at Module._extensions..js (node:internal/modules/cjs/loader:1308:10)\n",
      "\u001b[1;31m    at Module.load (node:internal/modules/cjs/loader:1117:32)\n",
      "\u001b[1;31m    at Module._load (node:internal/modules/cjs/loader:958:12)\n",
      "\u001b[1;31m    at Module.require (node:internal/modules/cjs/loader:1141:19)\n",
      "\u001b[1;31m    at require (node:internal/modules/cjs/helpers:110:18)\n",
      "\u001b[1;31m    at Object.<anonymous> (/usr/local/lib/node_modules/ijavascript/node_modules/zeromq/lib/index.js:6:11)\n",
      "\u001b[1;31m\n",
      "\u001b[1;31mNode.js v18.16.0. \n",
      "\u001b[1;31mView Jupyter <a href='command:jupyter.viewOutput'>log</a> for further details."
     ]
    }
   ],
   "source": [
    "document.cookie = \"username=John Doe\";\n"
   ]
  },
  {
   "cell_type": "code",
   "execution_count": null,
   "metadata": {},
   "outputs": [],
   "source": []
  },
  {
   "cell_type": "code",
   "execution_count": null,
   "metadata": {},
   "outputs": [],
   "source": []
  }
 ],
 "metadata": {
  "kernelspec": {
   "display_name": "JavaScript (Node.js)",
   "language": "javascript",
   "name": "javascript"
  },
  "language_info": {
   "codemirror_mode": {
    "name": "ipython",
    "version": 3
   },
   "file_extension": ".py",
   "mimetype": "text/x-python",
   "name": "javascript",
   "nbconvert_exporter": "python",
   "pygments_lexer": "ipython3",
   "version": "3.9.6"
  }
 },
 "nbformat": 4,
 "nbformat_minor": 2
}
