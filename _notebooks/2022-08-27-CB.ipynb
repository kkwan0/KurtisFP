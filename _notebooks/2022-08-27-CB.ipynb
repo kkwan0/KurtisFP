{
 "cells": [
  {
   "cell_type": "markdown",
   "metadata": {},
   "source": [
    "# College Board\n",
    "> CB\n",
    "\n",
    "- toc: true \n",
    "- badges: true\n",
    "- comments: true\n",
    "- categories: [jupyter]\n",
    "- image: "
   ]
  },
  {
   "cell_type": "markdown",
   "metadata": {},
   "source": [
    "The College Board stuff\n",
    "\n",
    "# Unit 1: Primitives\n"
   ]
  }
 ],
 "metadata": {
  "kernelspec": {
   "display_name": "Python 3.9.12 64-bit (microsoft store)",
   "language": "python",
   "name": "python3"
  },
  "language_info": {
   "name": "python",
   "version": "3.9.12"
  },
  "orig_nbformat": 4,
  "vscode": {
   "interpreter": {
    "hash": "3221d450da7f073c5cb4368547581e48fd3bb49a180208b948437cf554f7b5d8"
   }
  }
 },
 "nbformat": 4,
 "nbformat_minor": 2
}
