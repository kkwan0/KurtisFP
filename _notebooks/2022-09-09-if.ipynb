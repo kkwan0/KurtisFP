{
 "cells": [
  {
   "cell_type": "markdown",
   "metadata": {},
   "source": [
    "# If Statements\n",
    "> JAVA If\n",
    "\n",
    "- toc: true \n",
    "- badges: true\n",
    "- comments: true\n",
    "- categories: [jupyter]\n",
    "- image: "
   ]
  },
  {
   "cell_type": "markdown",
   "metadata": {},
   "source": [
    "if statements are conditional statements that execute based off of a condition. The syntax of an if statement in JAVA is \n",
    "```\n",
    "if ( number > 0 ) {\n",
    "\n",
    "//code code code\n",
    "}\n",
    "```\n",
    "An if else statement is going to execute another block of code if the first condition is not met. \n",
    "```\n",
    "if ( number > 0 ) {\n",
    "\n",
    "//code code code\n",
    "}\n",
    "else { //keyword else\n",
    "    //more code code code\n",
    "}\n",
    "```\n",
    "Else if will add another condition that it can execute\n",
    "```\n",
    "if ( number > 0 ) {\n",
    "\n",
    "//code code code\n",
    "}\n",
    "else if (number < 0) {\n",
    "    //more code code \n",
    "}\n",
    "else {\n",
    "    System.out.println(\"code\");\n",
    "}\n",
    "```"
   ]
  },
  {
   "cell_type": "markdown",
   "metadata": {},
   "source": [
    "#De Morgan's Law\n",
    "There are 2, which is basically  (AuB)' = A' n B' or the compliment of the union is equal to the intersection of the compliment\n",
    "(neither a or b is equal to not a and not b)\n",
    "\n",
    "https://cdn.discordapp.com/attachments/967938602485035090/1018304363065778317/unknown.png\n",
    "\n",
    "and \n",
    "\n",
    "(AnB)' = A' u B' or the compliment of the intersection is equal to the union of the compliments\n",
    "(not a and b equals not a or not b)\n",
    "\n",
    "https://cdn.discordapp.com/attachments/967938602485035090/1018305030761234540/unknown.png\n",
    "\n",
    "image.png\n",
    "\n",
    "\n",
    "image.png"
   ]
  },
  {
   "cell_type": "markdown",
   "metadata": {},
   "source": [
    "//If statements example\n",
    "\n",
    "import java.util.Scanner; \n",
    "\n",
    "public class art \n",
    "{  \n",
    "  \n",
    "    public static void main(String[] args) \n",
    "    {  \n",
    "System.out.println(\"　（V) ∧ ∧(V) \");\n",
    "System.out.println(\"　　ヽ(･ω･) ﾉ\");　　\n",
    "System.out.println(\"　　　/　/\");\n",
    "System.out.println(\"　　ノ￣ゝ\");\n",
    "    }\n",
    "}"
   ]
  }
 ],
 "metadata": {
  "kernelspec": {
   "display_name": "Python 3.9.12 64-bit (microsoft store)",
   "language": "python",
   "name": "python3"
  },
  "language_info": {
   "name": "python",
   "version": "3.9.12"
  },
  "orig_nbformat": 4,
  "vscode": {
   "interpreter": {
    "hash": "3221d450da7f073c5cb4368547581e48fd3bb49a180208b948437cf554f7b5d8"
   }
  }
 },
 "nbformat": 4,
 "nbformat_minor": 2
}
