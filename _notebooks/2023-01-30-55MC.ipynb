{
 "cells": [
  {
   "cell_type": "markdown",
   "metadata": {},
   "source": [
    "# 66 MC\n",
    "> MC\n",
    "\n",
    "- toc: true \n",
    "- badges: true\n",
    "- comments: true\n",
    "- categories: [jupyter]\n",
    "- image: "
   ]
  },
  {
   "attachments": {},
   "cell_type": "markdown",
   "metadata": {},
   "source": [
    "![image](https://user-images.githubusercontent.com/28553165/215682001-aa18c91b-51b4-4d7d-82d9-5b41e4b089ea.png)\n"
   ]
  },
  {
   "attachments": {},
   "cell_type": "markdown",
   "metadata": {},
   "source": [
    "Q12:\n",
    "![image](https://user-images.githubusercontent.com/28553165/215680409-a9fc4cc5-4026-4594-9231-f3b58eed02d0.png)\n",
    "\n",
    "I chose B because I thought that that was right. It turned out that the order was reversed, which makes C the right answer. "
   ]
  },
  {
   "attachments": {},
   "cell_type": "markdown",
   "metadata": {},
   "source": [
    "Q13:\n",
    "![image](https://user-images.githubusercontent.com/28553165/215680603-a6275664-2bc9-416d-aafd-20c96e93fe6b.png)\n",
    "I chose C because I thought that it would return this. It is wrong because all is assigned a value that does not contain art, and that makes B the right answer. This one was a silly mistake.\n"
   ]
  },
  {
   "attachments": {},
   "cell_type": "markdown",
   "metadata": {},
   "source": [
    "Q18:\n",
    "![image](https://user-images.githubusercontent.com/28553165/215680834-2d242f15-6be3-44b5-8e9e-a30d50392912.png)\n",
    "\n",
    "E is wrong because an enhanced loop is used, which the value of num is not a column value. D is right because it is a column value. "
   ]
  },
  {
   "attachments": {},
   "cell_type": "markdown",
   "metadata": {},
   "source": [
    "Q23:\n",
    "![image](https://user-images.githubusercontent.com/28553165/215681031-96f4fbc2-4a37-46e3-9505-456aafd9c31b.png)\n",
    "\n",
    "C is wrong because the subtracting 1 would skip the last value. I didn't see this clearly and that I thought that this was the right answer. I made another silly mistake "
   ]
  },
  {
   "attachments": {},
   "cell_type": "markdown",
   "metadata": {},
   "source": [
    "Q25:\n",
    "![image](https://user-images.githubusercontent.com/28553165/215681182-45a11fa6-7053-417f-beb0-49482a63537d.png)\n",
    "\n",
    "D is wrong because that the list is completely wrong. If the loop was k>1 it would be right. I think that I quickly saw through the list, I saw bear and I chose it. "
   ]
  },
  {
   "attachments": {},
   "cell_type": "markdown",
   "metadata": {},
   "source": [
    "\n",
    "Q31: \n",
    "![image](https://user-images.githubusercontent.com/28553165/215681302-b6b254d0-f902-4519-ae43-2202911542c1.png)\n",
    "\n",
    "B is wrong because the outer loop uses j, which is a row, and it is used as int instead of int[]. Which D has."
   ]
  },
  {
   "attachments": {},
   "cell_type": "markdown",
   "metadata": {},
   "source": [
    "\n",
    "Q35:\n",
    "![image](https://user-images.githubusercontent.com/28553165/215681431-04d79cf3-d7bc-4f65-846b-ad2ba04849dd.png)\n",
    "\n",
    "A is wrong because it would print it the wrong way, printing it from left to right. C is right because it is in the right orientation. "
   ]
  },
  {
   "attachments": {},
   "cell_type": "markdown",
   "metadata": {},
   "source": [
    "\n",
    "Q44:\n",
    "![image](https://user-images.githubusercontent.com/28553165/215681541-52a4b52a-5593-4e4a-8d91-5a18148a8c9a.png)\n",
    "\n",
    "C is wrong because it starts off at +2, which is wrong. D is right because it starts at k=j+1. "
   ]
  },
  {
   "attachments": {},
   "cell_type": "markdown",
   "metadata": {},
   "source": [
    "\n",
    "Q45:\n",
    "![image](https://user-images.githubusercontent.com/28553165/215681632-4b12bf87-aab4-400b-a5b5-4adc64bdae21.png)\n",
    "\n",
    "B is wrong because it updates 4 times instead of 5 times. "
   ]
  },
  {
   "attachments": {},
   "cell_type": "markdown",
   "metadata": {},
   "source": [
    "\n",
    "Q51:\n",
    "![image](https://user-images.githubusercontent.com/28553165/215681743-5c199fef-4c25-47c2-ac85-364791660677.png)\n",
    "\n",
    "C is wrong because it doesn't include 3. I didn't check the third condition, or I didn't check it correctly because I thought that it didn't fit. "
   ]
  },
  {
   "attachments": {},
   "cell_type": "markdown",
   "metadata": {},
   "source": [
    "\n",
    "Q52:\n",
    "![image](https://user-images.githubusercontent.com/28553165/215681865-11929071-179d-49fa-b8d7-a76af07ba15d.png)\n",
    "\n",
    "B is wrong because it would require loops to check for even and odd rows. I think that the images really confused me, and that near the end of the test I wasn't really wanting to complete the test. "
   ]
  }
 ],
 "metadata": {
  "kernelspec": {
   "display_name": "Java",
   "language": "java",
   "name": "java"
  },
  "language_info": {
   "name": "java",
   "version": "3.8.10 (default, Jun 22 2022, 20:18:18) \n[GCC 9.4.0]"
  },
  "orig_nbformat": 4,
  "vscode": {
   "interpreter": {
    "hash": "916dbcbb3f70747c44a77c7bcd40155683ae19c65e1c03b4aa3499c5328201f1"
   }
  }
 },
 "nbformat": 4,
 "nbformat_minor": 2
}
