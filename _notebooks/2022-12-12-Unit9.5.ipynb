{
 "cells": [
  {
   "cell_type": "markdown",
   "metadata": {},
   "source": [
    "# Unit 9 Leson\n",
    "> Unit 9 Lesson\n",
    "\n",
    "- toc: true \n",
    "- badges: true\n",
    "- comments: true\n",
    "- categories: [jupyter]\n",
    "- image: "
   ]
  },
  {
   "cell_type": "markdown",
   "metadata": {},
   "source": [
    "9.5\n",
    "Creating References Using Inheritance Hierarchies\n",
    "\n",
    "Inheritance Hierarchies \n",
    "\n",
    "https://firebasestorage.googleapis.com/v0/b/fiveable-92889.appspot.com/o/images%2F-gTiRkkb1UFII.png?alt=media&token=ae860a2d-47f4-458e-981f-526345a7d8c5\n",
    "Type Diagram\n",
    "\n",
    "It is similar to looking at it like a family tree. A is the superclass, or the head of the family. The descendants are the subclasses. \n",
    "\n",
    "So \n",
    "\n",
    "public class A\n",
    "public class B extends A    \n",
    "public class C extends B\n",
    "\n",
    "A Reference refers to an object of the class, or the object of an inherited class. So an Inheritance Hierarchy can create references \n",
    "\n"
   ]
  }
 ],
 "metadata": {
  "kernelspec": {
   "display_name": "Java",
   "language": "java",
   "name": "java"
  },
  "language_info": {
   "name": "java"
  },
  "orig_nbformat": 4
 },
 "nbformat": 4,
 "nbformat_minor": 2
}
