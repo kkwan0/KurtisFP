{
 "cells": [
  {
   "attachments": {},
   "cell_type": "markdown",
   "metadata": {},
   "source": [
    "# HW\n",
    "> HW\n",
    "\n",
    "- toc: true \n",
    "- badges: true\n",
    "- comments: true\n",
    "- categories: [jupyter]\n",
    "- image: "
   ]
  },
  {
   "attachments": {},
   "cell_type": "markdown",
   "metadata": {},
   "source": [
    "## Sorting"
   ]
  },
  {
   "cell_type": "code",
   "execution_count": 4,
   "metadata": {
    "vscode": {
     "languageId": "java"
    }
   },
   "outputs": [
    {
     "name": "stdout",
     "output_type": "stream",
     "text": [
      "Before sorting:\n",
      "[Russia (143400000), Canada (38250000), China (1412000000), United States (331900000), Vatican City (850), Australia (25690000)]\n",
      "After sorting:\n",
      "[China (1412000000), United States (331900000), Russia (143400000), Canada (38250000), Australia (25690000), Vatican City (850)]\n"
     ]
    }
   ],
   "source": [
    "import java.util.ArrayList;\n",
    "import java.util.Comparator;\n",
    "\n",
    "class Country {\n",
    "    String name;\n",
    "    int size;\n",
    "\n",
    "    public Country(String name, int size) {\n",
    "        this.name = name;\n",
    "        this.size = size;\n",
    "    }\n",
    "\n",
    "    @Override\n",
    "    public String toString() {\n",
    "        return name + \" (\" + size + \")\";\n",
    "    }\n",
    "}\n",
    "\n",
    "public class Main {\n",
    "    public static void main(String[] args) {\n",
    "        ArrayList<Country> countries = new ArrayList<>();\n",
    "        countries.add(new Country(\"Russia\", 143400000));\n",
    "        countries.add(new Country(\"Canada\", 38250000));\n",
    "        countries.add(new Country(\"China\", 1412000000));\n",
    "        countries.add(new Country(\"United States\", 331900000));\n",
    "        countries.add(new Country(\"Vatican City\", 850));\n",
    "        countries.add(new Country(\"Australia\", 25690000));\n",
    "\n",
    "        System.out.println(\"Before sorting:\");\n",
    "        System.out.println(countries);\n",
    "\n",
    "        // Sort in decreasing order using a custom Comparator\n",
    "        countries.sort(new Comparator<Country>() {\n",
    "            @Override\n",
    "            public int compare(Country c1, Country c2) {\n",
    "                return Integer.compare(c2.size, c1.size);\n",
    "            }\n",
    "        });\n",
    "\n",
    "        System.out.println(\"After sorting:\");\n",
    "        System.out.println(countries);\n",
    "    }\n",
    "    \n",
    "}\n",
    "Main.main(null);\n"
   ]
  },
  {
   "attachments": {},
   "cell_type": "markdown",
   "metadata": {},
   "source": [
    "## Recursion"
   ]
  },
  {
   "cell_type": "code",
   "execution_count": 1,
   "metadata": {
    "vscode": {
     "languageId": "java"
    }
   },
   "outputs": [
    {
     "name": "stdout",
     "output_type": "stream",
     "text": [
      "**********\n",
      "*********\n",
      "********\n",
      "*******\n",
      "******\n",
      "*****\n",
      "****\n",
      "***\n",
      "**\n",
      "*\n"
     ]
    }
   ],
   "source": [
    "public void drawLine(int n) {\n",
    "   \n",
    "    if (n ==1 )\n",
    "    \n",
    "    {\n",
    "         System.out.println(\"*\");\n",
    "    }\n",
    "    else {\n",
    "    for (int i = 1; i <= n; i++) {\n",
    "              \n",
    "              System.out.print(\"*\");\n",
    "    }\n",
    "    System.out.println(\"\");\n",
    "     drawLine(n - 1);\n",
    "    \n",
    "    \n",
    "    \n",
    "    }\n",
    "    }\n",
    "    \n",
    "    \n",
    "    drawLine(10);"
   ]
  },
  {
   "attachments": {},
   "cell_type": "markdown",
   "metadata": {},
   "source": [
    "## Arraylist"
   ]
  },
  {
   "cell_type": "code",
   "execution_count": 2,
   "metadata": {
    "vscode": {
     "languageId": "java"
    }
   },
   "outputs": [
    {
     "name": "stdout",
     "output_type": "stream",
     "text": [
      "true\n"
     ]
    }
   ],
   "source": [
    "ArrayList<Integer> list1 = new ArrayList<Integer>();\n",
    "list1.add(1);\n",
    "list1.add(2);\n",
    "list1.add(3);\n",
    "list1.add(4);\n",
    "list1.add(5);\n",
    "\n",
    "ArrayList<Integer> list2 = new ArrayList<Integer>();\n",
    "list2.add(5);\n",
    "list2.add(4);\n",
    "list2.add(3);\n",
    "list2.add(2);\n",
    "list2.add(1);\n",
    "\n",
    "boolean areEqual = true;\n",
    "\n",
    "if (list1.size() != list2.size()) {\n",
    "    areEqual = false;\n",
    "} else {\n",
    "    for (int i = 0; i < list1.size(); i++) {\n",
    "        if (!list1.get(i).equals(list2.get(list2.size() - 1 - i))) {\n",
    "            areEqual = false;\n",
    "            break;\n",
    "        }\n",
    "    }\n",
    "}\n",
    "\n",
    "System.out.println(areEqual);\n"
   ]
  },
  {
   "cell_type": "code",
   "execution_count": 3,
   "metadata": {
    "vscode": {
     "languageId": "java"
    }
   },
   "outputs": [
    {
     "name": "stdout",
     "output_type": "stream",
     "text": [
      "[2, 4]\n"
     ]
    }
   ],
   "source": [
    "ArrayList<Integer> list = new ArrayList<Integer>();\n",
    "list.add(1);\n",
    "list.add(2);\n",
    "list.add(3);\n",
    "list.add(4);\n",
    "list.add(5);\n",
    "\n",
    "\n",
    "\n",
    "for (int i = list.size() - 1; i >= 0; i -= 2) {\n",
    "    list.remove(i);\n",
    "}\n",
    "\n",
    "System.out.println(list);\n"
   ]
  },
  {
   "cell_type": "markdown",
   "metadata": {},
   "source": []
  }
 ],
 "metadata": {
  "kernelspec": {
   "display_name": "Java",
   "language": "java",
   "name": "java"
  },
  "language_info": {
   "codemirror_mode": "java",
   "file_extension": ".jshell",
   "mimetype": "text/x-java-source",
   "name": "Java",
   "pygments_lexer": "java",
   "version": "17.0.5+8-Ubuntu-2ubuntu120.04"
  },
  "orig_nbformat": 4
 },
 "nbformat": 4,
 "nbformat_minor": 2
}
