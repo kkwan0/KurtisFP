{
 "cells": [
  {
   "attachments": {},
   "cell_type": "markdown",
   "metadata": {},
   "source": [
    "# HW\n",
    "> HW\n",
    "\n",
    "- toc: true \n",
    "- badges: true\n",
    "- comments: true\n",
    "- categories: [jupyter]\n",
    "- image: "
   ]
  },
  {
   "attachments": {},
   "cell_type": "markdown",
   "metadata": {},
   "source": [
    "## Sorting"
   ]
  },
  {
   "cell_type": "code",
   "execution_count": 4,
   "metadata": {
    "vscode": {
     "languageId": "java"
    }
   },
   "outputs": [
    {
     "name": "stdout",
     "output_type": "stream",
     "text": [
      "Before sorting:\n",
      "[Russia (143400000), Canada (38250000), China (1412000000), United States (331900000), Vatican City (850), Australia (25690000)]\n",
      "After sorting:\n",
      "[China (1412000000), United States (331900000), Russia (143400000), Canada (38250000), Australia (25690000), Vatican City (850)]\n"
     ]
    }
   ],
   "source": [
    "import java.util.ArrayList;\n",
    "import java.util.Comparator;\n",
    "\n",
    "class Country {\n",
    "    String name;\n",
    "    int size;\n",
    "\n",
    "    public Country(String name, int size) {\n",
    "        this.name = name;\n",
    "        this.size = size;\n",
    "    }\n",
    "\n",
    "    @Override\n",
    "    public String toString() {\n",
    "        return name + \" (\" + size + \")\";\n",
    "    }\n",
    "}\n",
    "\n",
    "public class Main {\n",
    "    public static void main(String[] args) {\n",
    "        ArrayList<Country> countries = new ArrayList<>();\n",
    "        countries.add(new Country(\"Russia\", 143400000));\n",
    "        countries.add(new Country(\"Canada\", 38250000));\n",
    "        countries.add(new Country(\"China\", 1412000000));\n",
    "        countries.add(new Country(\"United States\", 331900000));\n",
    "        countries.add(new Country(\"Vatican City\", 850));\n",
    "        countries.add(new Country(\"Australia\", 25690000));\n",
    "\n",
    "        System.out.println(\"Before sorting:\");\n",
    "        System.out.println(countries);\n",
    "\n",
    "        // Sort in decreasing order using a custom Comparator\n",
    "        countries.sort(new Comparator<Country>() {\n",
    "            @Override\n",
    "            public int compare(Country c1, Country c2) {\n",
    "                return Integer.compare(c2.size, c1.size);\n",
    "            }\n",
    "        });\n",
    "\n",
    "        System.out.println(\"After sorting:\");\n",
    "        System.out.println(countries);\n",
    "    }\n",
    "    \n",
    "}\n",
    "Main.main(null);\n"
   ]
  },
  {
   "attachments": {},
   "cell_type": "markdown",
   "metadata": {},
   "source": [
    "## Recursion"
   ]
  },
  {
   "cell_type": "code",
   "execution_count": 1,
   "metadata": {
    "vscode": {
     "languageId": "java"
    }
   },
   "outputs": [
    {
     "name": "stdout",
     "output_type": "stream",
     "text": [
      "**********\n",
      "*********\n",
      "********\n",
      "*******\n",
      "******\n",
      "*****\n",
      "****\n",
      "***\n",
      "**\n",
      "*\n"
     ]
    }
   ],
   "source": [
    "public void drawLine(int n) {\n",
    "   \n",
    "    if (n ==1 )\n",
    "    \n",
    "    {\n",
    "         System.out.println(\"*\");\n",
    "    }\n",
    "    else {\n",
    "    for (int i = 1; i <= n; i++) {\n",
    "              \n",
    "              System.out.print(\"*\");\n",
    "    }\n",
    "    System.out.println(\"\");\n",
    "     drawLine(n - 1);\n",
    "    \n",
    "    \n",
    "    \n",
    "    }\n",
    "    }\n",
    "    \n",
    "    \n",
    "    drawLine(10);"
   ]
  },
  {
   "attachments": {},
   "cell_type": "markdown",
   "metadata": {},
   "source": [
    "## Arraylist"
   ]
  },
  {
   "cell_type": "code",
   "execution_count": 2,
   "metadata": {
    "vscode": {
     "languageId": "java"
    }
   },
   "outputs": [
    {
     "name": "stdout",
     "output_type": "stream",
     "text": [
      "true\n"
     ]
    }
   ],
   "source": [
    "ArrayList<Integer> list1 = new ArrayList<Integer>();\n",
    "list1.add(1);\n",
    "list1.add(2);\n",
    "list1.add(3);\n",
    "list1.add(4);\n",
    "list1.add(5);\n",
    "\n",
    "ArrayList<Integer> list2 = new ArrayList<Integer>();\n",
    "list2.add(5);\n",
    "list2.add(4);\n",
    "list2.add(3);\n",
    "list2.add(2);\n",
    "list2.add(1);\n",
    "\n",
    "boolean areEqual = true;\n",
    "\n",
    "if (list1.size() != list2.size()) {\n",
    "    areEqual = false;\n",
    "} else {\n",
    "    for (int i = 0; i < list1.size(); i++) {\n",
    "        if (!list1.get(i).equals(list2.get(list2.size() - 1 - i))) {\n",
    "            areEqual = false;\n",
    "            break;\n",
    "        }\n",
    "    }\n",
    "}\n",
    "\n",
    "System.out.println(areEqual);\n"
   ]
  },
  {
   "cell_type": "code",
   "execution_count": 3,
   "metadata": {
    "vscode": {
     "languageId": "java"
    }
   },
   "outputs": [
    {
     "name": "stdout",
     "output_type": "stream",
     "text": [
      "[2, 4]\n"
     ]
    }
   ],
   "source": [
    "ArrayList<Integer> list = new ArrayList<Integer>();\n",
    "list.add(1);\n",
    "list.add(2);\n",
    "list.add(3);\n",
    "list.add(4);\n",
    "list.add(5);\n",
    "\n",
    "\n",
    "\n",
    "for (int i = list.size() - 1; i >= 0; i -= 2) {\n",
    "    list.remove(i);\n",
    "}\n",
    "\n",
    "System.out.println(list);\n"
   ]
  },
  {
   "attachments": {},
   "cell_type": "markdown",
   "metadata": {},
   "source": [
    "## FRQ HW"
   ]
  },
  {
   "cell_type": "code",
   "execution_count": 19,
   "metadata": {
    "vscode": {
     "languageId": "java"
    }
   },
   "outputs": [
    {
     "name": "stdout",
     "output_type": "stream",
     "text": [
      "1 4 7 5 \n"
     ]
    }
   ],
   "source": [
    "\n",
    "\n",
    "\n",
    "public class ArrayTester {\n",
    "    /*\n",
    "    Returns an array containing the elements of column c of arr2D in the same order as they appear in arr2D.\n",
    "    Precondition: c is a valid column index in arr2D.\n",
    "    Postcondition: arr2D is unchanged.\n",
    "    */\n",
    "    public static int[] getColumn(int[][] arr2D, int c) {\n",
    "        int[] column = new int[arr2D.length]; \n",
    "    \n",
    "        for (int i = 0; i < arr2D.length; i++) {\n",
    "            column[i] = arr2D[i][c]; \n",
    "        }\n",
    "    return column;\n",
    "    \n",
    "    }\n",
    "\n",
    "    public static boolean containsDuplicates(int[] arr) {\n",
    "        for (int i = 0; i < arr.length; i++) {\n",
    "            for (int j = i + 1; j < arr.length; j++) {\n",
    "                if (arr[i] == arr[j]) {\n",
    "                    return true;\n",
    "                }\n",
    "            }\n",
    "        }\n",
    "        return false;\n",
    "    }\n",
    "    \n",
    "    public static boolean isLatin(int[][] square) {\n",
    "        int n = square.length;\n",
    "        int[] firstRow = square[0];\n",
    "        \n",
    "        if (containsDuplicates(firstRow)) {\n",
    "            return false;\n",
    "        }\n",
    "        \n",
    "        for (int i = 1; i < n; i++) {\n",
    "            if (!hasAllValues(firstRow, square[i])) {\n",
    "                return false;\n",
    "            }\n",
    "        }\n",
    "        \n",
    "        for (int j = 0; j < n; j++) {\n",
    "            int[] column = getColumn(square, j);\n",
    "            if (!hasAllValues(firstRow, column)) {\n",
    "                return false;\n",
    "            }\n",
    "        }\n",
    "        \n",
    "        return true;\n",
    "    }\n",
    "\n",
    "    \n",
    "\n",
    "\n",
    "    public static void main(String[] args) {\n",
    "        int[][] arr2D = {{0, 1, 2}, {3, 4, 5}, {6, 7, 8}, {9, 5, 3}};\n",
    "        int[] column = getColumn(arr2D, 1);\n",
    "    \n",
    "        for (int i = 0; i < column.length; i++) {\n",
    "            System.out.print(column[i] + \" \");\n",
    "        }\n",
    "        System.out.println();\n",
    "    }\n",
    "    }\n",
    "    colum.main(null);\n",
    "    \n",
    "    "
   ]
  },
  {
   "cell_type": "code",
   "execution_count": null,
   "metadata": {
    "vscode": {
     "languageId": "java"
    }
   },
   "outputs": [],
   "source": [
    "//2017 4a\n",
    "\n",
    "public static Position findPosition(int num, int[][] intArr) {\n",
    "    for (int r = 0; r < intArr.length; r++) {\n",
    "        for (int c = 0; c < intArr[r].length; c++) {\n",
    "            if (intArr[r][c] == num) {\n",
    "                return new Position(r, c);\n",
    "            }\n",
    "        }\n",
    "    }\n",
    "    return null;\n",
    "}\n",
    "\n",
    "//b: \n",
    "\n",
    "public static Position[][] getSuccessorArray(int[][] intArr) {\n",
    "    int numRows = intArr.length;\n",
    "    int numCols = intArr[0].length;\n",
    "    Position[][] succArr = new Position[numRows][numCols];\n",
    "\n",
    "    for (int r = 0; r < numRows; r++) {\n",
    "        for (int c = 0; c < numCols; c++) {\n",
    "            int curr = intArr[r][c];\n",
    "            if (curr != numRows * numCols) {\n",
    "                for (int dr = -1; dr <= 1; dr++) {\n",
    "                    for (int dc = -1; dc <= 1; dc++) {\n",
    "                        if (dr == 0 && dc == 0) {\n",
    "                            continue;\n",
    "                        }\n",
    "                        int neighborRow = r + dr;\n",
    "                        int neighborCol = c + dc;\n",
    "                        if (neighborRow >= 0 && neighborRow < numRows &&\n",
    "                            neighborCol >= 0 && neighborCol < numCols &&\n",
    "                            intArr[neighborRow][neighborCol] == curr + 1) {\n",
    "                            succArr[r][c] = new Position(neighborRow, neighborCol);\n",
    "                            break;\n",
    "                        }\n",
    "                    }\n",
    "                    if (succArr[r][c] != null) {\n",
    "                        break;\n",
    "                    }\n",
    "                }\n",
    "            }\n",
    "        }\n",
    "    }\n",
    "\n",
    "    return succArr;\n",
    "}\n"
   ]
  },
  {
   "cell_type": "code",
   "execution_count": null,
   "metadata": {
    "vscode": {
     "languageId": "java"
    }
   },
   "outputs": [],
   "source": [
    "//2016a\n",
    "\n",
    "private boolean toBeLabeled(int r, int c, boolean[][] blackSquares) {\n",
    "    if (blackSquares[r][c]) {\n",
    "        return false;\n",
    "    }\n",
    "    \n",
    "    if (r == 0 || blackSquares[r - 1][c]) {\n",
    "        \n",
    "    } else {\n",
    "        return false;\n",
    "    }\n",
    "    \n",
    "    if (c == 0 || blackSquares[r][c - 1]) {\n",
    "       \n",
    "    } else {\n",
    "        return false;\n",
    "    }\n",
    "        return true;\n",
    "}\n"
   ]
  },
  {
   "cell_type": "code",
   "execution_count": null,
   "metadata": {
    "vscode": {
     "languageId": "java"
    }
   },
   "outputs": [],
   "source": [
    "//B\n",
    "\n",
    "public Crossword(boolean[][] blackSquares) {\n",
    "    int rows = blackSquares.length;\n",
    "    int cols = blackSquares[0].length;\n",
    "    puzzle = new Square[rows][cols];\n",
    "\n",
    "    // Label squares according to crossword labeling rule\n",
    "    int count = 1;\n",
    "    for (int r = 0; r < rows; r++) {\n",
    "        for (int c = 0; c < cols; c++) {\n",
    "            if (!blackSquares[r][c] && toBeLabeled(r, c, blackSquares)) {\n",
    "                puzzle[r][c] = new Square(false, count);\n",
    "                count++;\n",
    "            } else {\n",
    "                puzzle[r][c] = new Square(blackSquares[r][c], 0);\n",
    "            }\n",
    "        }\n",
    "    }\n",
    "}\n"
   ]
  },
  {
   "cell_type": "code",
   "execution_count": 21,
   "metadata": {
    "vscode": {
     "languageId": "java"
    }
   },
   "outputs": [
    {
     "name": "stdout",
     "output_type": "stream",
     "text": [
      "8\n"
     ]
    }
   ],
   "source": [
    "//in class\n",
    "\n",
    "public static int averageDiagonal (int[][] array2D) {\n",
    "    // your code here\n",
    "int total = 0;\n",
    " for (int row = 0; row < array2D.length; row++){\n",
    "    total += array2D[row][row];\n",
    "    }\n",
    "\n",
    "    return total / array2D.length;\n",
    "}\n",
    "\n",
    "int[][] arr = {\n",
    "    {1,2,3,4,5,6},\n",
    "    {7,8,9,10,11,12},\n",
    "    {0,1,2,3,4,5},\n",
    "    {10,11,12,13,14,15},\n",
    "    {15,16,17,18,19,20}\n",
    "};\n",
    "\n",
    "System.out.println(averageDiagonal(arr));"
   ]
  },
  {
   "cell_type": "code",
   "execution_count": 23,
   "metadata": {
    "vscode": {
     "languageId": "java"
    }
   },
   "outputs": [
    {
     "name": "stdout",
     "output_type": "stream",
     "text": [
      "5\n"
     ]
    }
   ],
   "source": [
    "//Example finding the max in an array. \n",
    "\n",
    "//Finds the maximum in an array\n",
    "public static int average(int[] array) {\n",
    "    // put your code here\n",
    "    int total = 0;\n",
    "    for (int i = 0; i < array.length; i++) \n",
    "    {\n",
    "    total += array[i];\n",
    "    }\n",
    "\n",
    "\n",
    "    return total/array.length;\n",
    "\n",
    "}\n",
    "\n",
    "//tester array\n",
    "int[] test = {3, 5, 7, 2, 10};\n",
    "\n",
    "//returns 10\n",
    "System.out.println(average(test));"
   ]
  },
  {
   "cell_type": "code",
   "execution_count": 22,
   "metadata": {
    "vscode": {
     "languageId": "java"
    }
   },
   "outputs": [
    {
     "name": "stdout",
     "output_type": "stream",
     "text": [
      "10\n",
      "10\n",
      "10\n",
      "10\n",
      "10\n",
      "10\n",
      "10\n",
      "10\n",
      "10\n",
      "10\n"
     ]
    }
   ],
   "source": [
    "void setArray(int[] arr, int n) {\n",
    "    // your code here\n",
    "    for (int i = 0; i < array.length; i++) {\n",
    "\n",
    " arr[i] = n;    \n",
    "    }\n",
    "    \n",
    "}\n",
    "\n",
    "int[] array = new int[10];\n",
    "setArray(array, 10);\n",
    "\n",
    "for (int i = 0; i<array.length; i++) {\n",
    "    System.out.println(array[i]);\n",
    "}\n",
    "\n",
    "// Should print all 10s when working properly\n"
   ]
  }
 ],
 "metadata": {
  "kernelspec": {
   "display_name": "Java",
   "language": "java",
   "name": "java"
  },
  "language_info": {
   "codemirror_mode": "java",
   "file_extension": ".jshell",
   "mimetype": "text/x-java-source",
   "name": "Java",
   "pygments_lexer": "java",
   "version": "17.0.5+8-Ubuntu-2ubuntu120.04"
  },
  "orig_nbformat": 4
 },
 "nbformat": 4,
 "nbformat_minor": 2
}
