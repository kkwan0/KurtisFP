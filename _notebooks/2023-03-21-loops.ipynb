{
 "cells": [
  {
   "cell_type": "markdown",
   "metadata": {},
   "source": [
    "# Loops\n",
    "> loops\n",
    "\n",
    "- toc: true \n",
    "- badges: true\n",
    "- comments: true\n",
    "- categories: [jupyter]\n",
    "- image: "
   ]
  },
  {
   "attachments": {},
   "cell_type": "markdown",
   "metadata": {},
   "source": [
    "## Bubble Sort"
   ]
  },
  {
   "cell_type": "code",
   "execution_count": 2,
   "metadata": {
    "vscode": {
     "languageId": "java"
    }
   },
   "outputs": [
    {
     "name": "stdout",
     "output_type": "stream",
     "text": [
      "Sorted array: \n",
      "11 12 22 25 34 64 90 "
     ]
    }
   ],
   "source": [
    "public class BubbleSort {\n",
    "    public static void bubbleSort(int[] arr) {\n",
    "        int n = arr.length;\n",
    "        for (int i = 0; i < n - 1; i++) {\n",
    "            for (int j = 0; j < n - i - 1; j++) {\n",
    "                if (arr[j] > arr[j + 1]) {\n",
    "                    int temp = arr[j];\n",
    "                    arr[j] = arr[j + 1];\n",
    "                    arr[j + 1] = temp;\n",
    "                }\n",
    "            }\n",
    "        }\n",
    "    }\n",
    "\n",
    "    public static void main(String[] args) {\n",
    "        int[] arr = { 64, 34, 25, 12, 22, 11, 90 };\n",
    "        bubbleSort(arr);\n",
    "        System.out.println(\"Sorted array: \");\n",
    "        for (int i = 0; i < arr.length; i++) {\n",
    "            System.out.print(arr[i] + \" \");\n",
    "        }\n",
    "    }\n",
    "}\n",
    "BubbleSort.main(null);\n"
   ]
  },
  {
   "attachments": {},
   "cell_type": "markdown",
   "metadata": {},
   "source": [
    "## Selection Sort"
   ]
  },
  {
   "cell_type": "code",
   "execution_count": 5,
   "metadata": {
    "vscode": {
     "languageId": "java"
    }
   },
   "outputs": [
    {
     "name": "stdout",
     "output_type": "stream",
     "text": [
      "[11, 12, 22, 25, 34, 64, 90]\n"
     ]
    }
   ],
   "source": [
    "public class SelectionSort {\n",
    "\n",
    "    public static void selectionSort(int[] arr) {\n",
    "        int n = arr.length;\n",
    "\n",
    "        for (int i = 0; i < n - 1; i++) {\n",
    "            int minIndex = i;\n",
    "\n",
    "            for (int j = i + 1; j < n; j++) {\n",
    "                if (arr[j] < arr[minIndex]) {\n",
    "                    minIndex = j;\n",
    "                }\n",
    "            }\n",
    "\n",
    "            int temp = arr[minIndex];\n",
    "            arr[minIndex] = arr[i];\n",
    "            arr[i] = temp;\n",
    "        }\n",
    "    }\n",
    "\n",
    "    public static void main(String[] args) {\n",
    "        int[] arr = {64, 34, 25, 12, 22, 11, 90};\n",
    "        selectionSort(arr);\n",
    "\n",
    "        System.out.println(Arrays.toString(arr));\n",
    "    }\n",
    "}\n",
    "SelectionSort.main(null);\n"
   ]
  },
  {
   "attachments": {},
   "cell_type": "markdown",
   "metadata": {},
   "source": [
    "## Insertion Sort"
   ]
  },
  {
   "cell_type": "code",
   "execution_count": 5,
   "metadata": {
    "vscode": {
     "languageId": "java"
    }
   },
   "outputs": [
    {
     "name": "stdout",
     "output_type": "stream",
     "text": [
      "11 12 22 25 34 64 90 "
     ]
    }
   ],
   "source": [
    "public class InsertionSort {\n",
    "    public static void insertionSort(int[] arr) {\n",
    "        int n = arr.length;\n",
    "        for (int i = 1; i < n; i++) {\n",
    "            int value = arr[i];\n",
    "            int j = i - 1;\n",
    "\n",
    "            /* Move elements of arr[0..i-1], that are greater than key,\n",
    "            to one position ahead of their current position */\n",
    "            while (j >= 0 && arr[j] > value) {\n",
    "                arr[j + 1] = arr[j];\n",
    "                j = j - 1;\n",
    "            }\n",
    "            arr[j + 1] = value;\n",
    "        }\n",
    "    }\n",
    "\n",
    "    public static void main(String[] args) {\n",
    "        int[] arr = { 64, 34, 25, 12, 22, 11, 90 };\n",
    "        insertionSort(arr);\n",
    "        for (int i : arr) {\n",
    "            System.out.print(i + \" \");\n",
    "        }\n",
    "    }\n",
    "}\n",
    "InsertionSort.main(null);\n"
   ]
  },
  {
   "attachments": {},
   "cell_type": "markdown",
   "metadata": {},
   "source": [
    "## Merge Sort"
   ]
  },
  {
   "cell_type": "code",
   "execution_count": 8,
   "metadata": {
    "vscode": {
     "languageId": "java"
    }
   },
   "outputs": [
    {
     "name": "stdout",
     "output_type": "stream",
     "text": [
      "11 12 22 25 34 64 90 "
     ]
    }
   ],
   "source": [
    "public class MergeSort {\n",
    "\n",
    "    public static void mergeSort(int[] arr, int start, int end) { //recursively splits up the array into smaller oens\n",
    "        if (start < end) {\n",
    "            int mid = (start + end) / 2;\n",
    "            mergeSort(arr, start, mid);\n",
    "            mergeSort(arr, mid + 1, end);\n",
    "            merge(arr, start, mid, end);\n",
    "        }\n",
    "    }\n",
    "\n",
    "    public static void merge(int[] arr, int start, int mid, int end) { //combines the 3, \n",
    "        int[] temp = new int[end - start + 1]; //temp array\n",
    "        int i = start, j = mid + 1, k = 0;  //\n",
    "        while (i <= mid && j <= end) { //compares arrays, smaller into the temp\n",
    "            if (arr[i] <= arr[j]) {\n",
    "                temp[k] = arr[i];\n",
    "                i++;\n",
    "            } else {\n",
    "                temp[k] = arr[j];\n",
    "                j++;\n",
    "            }\n",
    "            k++;\n",
    "        }\n",
    "        while (i <= mid) {\n",
    "            temp[k] = arr[i]; //puts remaining into half of the temp\n",
    "            i++;\n",
    "            k++;\n",
    "        }\n",
    "        while (j <= end) {\n",
    "            temp[k] = arr[j]; //half into temp again\n",
    "            j++;\n",
    "            k++;\n",
    "        }\n",
    "        for (k = 0; k < temp.length; k++) { //temp to the main array\n",
    "            arr[start + k] = temp[k];\n",
    "        }\n",
    "    }\n",
    "    public static void main(String[] args) {\n",
    "        int[] arr = { 64, 34, 25, 12, 22, 11, 90 };\n",
    "        mergeSort(arr, 0, arr.length - 1);\n",
    "        for (int i : arr) {\n",
    "            System.out.print(i + \" \"); \n",
    "        }\n",
    "    }\n",
    "}\n",
    "MergeSort.main(null);\n"
   ]
  }
 ],
 "metadata": {
  "kernelspec": {
   "display_name": "Java",
   "language": "java",
   "name": "java"
  },
  "language_info": {
   "codemirror_mode": "java",
   "file_extension": ".jshell",
   "mimetype": "text/x-java-source",
   "name": "Java",
   "pygments_lexer": "java",
   "version": "17.0.5+8-Ubuntu-2ubuntu120.04"
  },
  "orig_nbformat": 4
 },
 "nbformat": 4,
 "nbformat_minor": 2
}
