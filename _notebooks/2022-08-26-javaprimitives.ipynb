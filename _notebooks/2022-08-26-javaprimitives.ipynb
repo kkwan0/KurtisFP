{
 "cells": [
  {
   "cell_type": "markdown",
   "metadata": {},
   "source": [
    "# Primatives in Java\n",
    "> Java primative.\n",
    "\n",
    "- toc: true \n",
    "- badges: true\n",
    "- comments: true\n",
    "- categories: [jupyter]\n",
    "- image: images/eg.png"
   ]
  },
  {
   "cell_type": "code",
   "execution_count": 79,
   "metadata": {},
   "outputs": [
    {
     "name": "stdout",
     "output_type": "stream",
     "text": [
      "b1 = true\n",
      "b2 = false\n",
      "do you think that b1 equals b2?\n",
      "answer no\n",
      "you right\n"
     ]
    }
   ],
   "source": [
    "import java.util.Scanner; \n",
    "\n",
    "public class BooleanExample2 {  \n",
    "  \n",
    "    public static void main(String[] args) {  \n",
    "      \n",
    "    boolean b1=true;  \n",
    "    boolean b2=false;  \n",
    "      \n",
    "        \n",
    "    System.out.println(\"b1 = \" + b1);  \n",
    "    System.out.println(\"b2 = \" + b2);\n",
    "    Scanner myObj = new Scanner(System.in);  // Create a Scanner object\n",
    "    System.out.println(\"do you think that b1 equals b2?\");\n",
    "\n",
    "    String input = myObj.nextLine();  // Read user input\n",
    "    System.out.println(\"answer \" + input);  // Output user input\n",
    "    String compile = input.toLowerCase();\n",
    "  //  System.out.println(compile);\n",
    "    boolean result = compile.matches(\"(.*)y(.*)\");\n",
    "//    System.out.println(result);\n",
    "//System.out.println(result);\n",
    "    if (result == b2)\n",
    "        System.out.println(\"you right\");\n",
    "    else \n",
    "        System.out.println(\"you wrong\");\n",
    "    }         \n",
    "}  \n",
    "BooleanExample2.main(null);"
   ]
  },
  {
   "cell_type": "code",
   "execution_count": 67,
   "metadata": {},
   "outputs": [
    {
     "name": "stdout",
     "output_type": "stream",
     "text": [
      "eYes\n",
      "true\n",
      "false\n"
     ]
    }
   ],
   "source": [
    "//stupid regex thing that i need to test\n",
    "\n",
    "public class Test \n",
    "{\n",
    "    public static void main(String[] args) \n",
    "    {\n",
    "        String yes = \"eYes\";\n",
    "        String compile = yes.toLowerCase();\n",
    "        System.out.println(yes);\n",
    "        System.out.println(compile.matches(\"(.*)y(.*)\"));\n",
    "        System.out.println(yes.matches(\"/^y\"));\n",
    "\n",
    "    }\n",
    "}\n",
    "Test.main(null);"
   ]
  }
 ],
 "metadata": {
  "kernelspec": {
   "display_name": "Python 3.9.12 64-bit (microsoft store)",
   "language": "python",
   "name": "python3"
  },
  "language_info": {
   "codemirror_mode": {
    "name": "ipython",
    "version": 3
   },
   "file_extension": ".py",
   "mimetype": "text/x-python",
   "name": "python",
   "nbconvert_exporter": "python",
   "pygments_lexer": "ipython3",
   "version": "3.9.12"
  },
  "orig_nbformat": 4,
  "vscode": {
   "interpreter": {
    "hash": "3221d450da7f073c5cb4368547581e48fd3bb49a180208b948437cf554f7b5d8"
   }
  }
 },
 "nbformat": 4,
 "nbformat_minor": 2
}
