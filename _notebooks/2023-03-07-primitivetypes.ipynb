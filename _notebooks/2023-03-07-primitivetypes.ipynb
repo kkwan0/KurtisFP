{
 "cells": [
  {
   "cell_type": "markdown",
   "metadata": {},
   "source": [
    "# Primitive Types\n",
    "> Types\n",
    "\n",
    "- toc: true \n",
    "- badges: true\n",
    "- comments: true\n",
    "- categories: [jupyter]\n",
    "- image: "
   ]
  },
  {
   "attachments": {},
   "cell_type": "markdown",
   "metadata": {},
   "source": [
    "#Int, Boolean, Char, Double\n"
   ]
  },
  {
   "cell_type": "code",
   "execution_count": 13,
   "metadata": {
    "vscode": {
     "languageId": "java"
    }
   },
   "outputs": [
    {
     "name": "stdout",
     "output_type": "stream",
     "text": [
      "2\n",
      "12345doubles\n",
      "0.0\n",
      "0.01.12.23.34.45.5"
     ]
    }
   ],
   "source": [
    "\n",
    "public class intdemo{\n",
    "    \n",
    "    public static void main(String[] args)\n",
    "    {\n",
    "        int i = 5;\n",
    "        int[] array = new int[]{ 1,2,3,4,5 };\n",
    "        System.out.println(array[1]);\n",
    "        for(int j = 0; j < array.length;j++)\n",
    "        {\n",
    "            System.out.print(array[j]);\n",
    "        }\n",
    "    }\n",
    "    public static void chartest() \n",
    "    {\n",
    "        System.out.println(\"doubles\");\n",
    "        double[] doubloon = new double[]{0.0,1.1,2.2,3.3,4.4,5.5};\n",
    "        System.out.println(doubloon[0]);\n",
    "        for (int i = 0; i < doubloon.length; i++)\n",
    "        {\n",
    "            System.out.print(doubloon[i]);\n",
    "        }\n",
    "    }\n",
    "    public static void bool() \n",
    "    {\n",
    "       \n",
    "    }\n",
    "    \n",
    "}\n",
    "intdemo.main(null);\n",
    "intdemo.chartest();\n",
    "intdemo.bool();\n"
   ]
  },
  {
   "cell_type": "code",
   "execution_count": 7,
   "metadata": {
    "vscode": {
     "languageId": "java"
    }
   },
   "outputs": [
    {
     "name": "stdout",
     "output_type": "stream",
     "text": [
      "The third element in intArray is: 3\n",
      "Random number between 0 and 1: 0.6782159106413519\n",
      "The fourth element in boolArray is: true\n",
      "The second element in charArray is: b\n",
      "The third element in integerArray is: 3\n",
      "Random number in Double wrapper class: 0.6782159106413519\n",
      "The fourth element in booleanArray is: true\n",
      "The second element in characterArray is: b\n"
     ]
    }
   ],
   "source": [
    "import java.util.Random;\n",
    "\n",
    "public class PrimitiveTypes {\n",
    "    \n",
    "    public static void main(String[] args) {\n",
    "        \n",
    "        // int example using array and substring method\n",
    "        int[] intArray = {1, 2, 3, 4, 5};\n",
    "        String intString = Integer.toString(intArray[2]);\n",
    "        System.out.println(\"The third element in intArray is: \" + intString.substring(0, 1));\n",
    "        \n",
    "        // double example using random method\n",
    "        double randomNumber = Math.random();\n",
    "        System.out.println(\"Random number between 0 and 1: \" + randomNumber);\n",
    "        \n",
    "        // boolean example using array\n",
    "        boolean[] boolArray = {true, false, false, true, true};\n",
    "        System.out.println(\"The fourth element in boolArray is: \" + boolArray[3]);\n",
    "        \n",
    "        // char example using array\n",
    "        char[] charArray = {'a', 'b', 'c', 'd', 'e'};\n",
    "        System.out.println(\"The second element in charArray is: \" + charArray[1]);\n",
    "        \n",
    "        // Converting int example to Integer wrapper class using array\n",
    "        Integer[] integerArray = new Integer[intArray.length];\n",
    "        for (int i = 0; i < intArray.length; i++) {\n",
    "            integerArray[i] = Integer.valueOf(intArray[i]);\n",
    "        }\n",
    "        System.out.println(\"The third element in integerArray is: \" + integerArray[2]);\n",
    "        \n",
    "        // Converting double example to Double wrapper class using array\n",
    "        Double[] doubleArray = new Double[1];\n",
    "        doubleArray[0] = Double.valueOf(randomNumber);\n",
    "        System.out.println(\"Random number in Double wrapper class: \" + doubleArray[0]);\n",
    "        \n",
    "        // Converting boolean example to Boolean wrapper class using array\n",
    "        Boolean[] booleanArray = new Boolean[boolArray.length];\n",
    "        for (int i = 0; i < boolArray.length; i++) {\n",
    "            booleanArray[i] = Boolean.valueOf(boolArray[i]);\n",
    "        }\n",
    "        System.out.println(\"The fourth element in booleanArray is: \" + booleanArray[3]);\n",
    "        \n",
    "        // Converting char example to Character wrapper class using array\n",
    "        Character[] characterArray = new Character[charArray.length];\n",
    "        for (int i = 0; i < charArray.length; i++) {\n",
    "            characterArray[i] = Character.valueOf(charArray[i]);\n",
    "        }\n",
    "        System.out.println(\"The second element in characterArray is: \" + characterArray[1]);\n",
    "    }\n",
    "}\n",
    "PrimitiveTypes.main(null);"
   ]
  }
 ],
 "metadata": {
  "kernelspec": {
   "display_name": "Java",
   "language": "java",
   "name": "java"
  },
  "language_info": {
   "codemirror_mode": "java",
   "file_extension": ".jshell",
   "mimetype": "text/x-java-source",
   "name": "Java",
   "pygments_lexer": "java",
   "version": "17.0.5+8-Ubuntu-2ubuntu120.04"
  },
  "orig_nbformat": 4
 },
 "nbformat": 4,
 "nbformat_minor": 2
}
