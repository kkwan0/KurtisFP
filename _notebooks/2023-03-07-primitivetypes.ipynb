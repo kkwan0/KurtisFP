{
 "cells": [
  {
   "cell_type": "markdown",
   "metadata": {},
   "source": [
    "# Primitive Types\n",
    "> Types\n",
    "\n",
    "- toc: true \n",
    "- badges: true\n",
    "- comments: true\n",
    "- categories: [jupyter]\n",
    "- image: "
   ]
  },
  {
   "attachments": {},
   "cell_type": "markdown",
   "metadata": {},
   "source": [
    "#Int, Boolean, Char, Double\n"
   ]
  },
  {
   "cell_type": "code",
   "execution_count": null,
   "metadata": {
    "vscode": {
     "languageId": "java"
    }
   },
   "outputs": [],
   "source": [
    "\n",
    "public class intdemo{\n",
    "    \n",
    "    public static void main(String[] args)\n",
    "    {\n",
    "        int i = 5;\n",
    "        int[] array = new int[]{ 1,2,3,4,5 };\n",
    "        System.out.println(array[1]);\n",
    "        for(int j = 0; j < array.length;j++)\n",
    "        {\n",
    "            System.out.print(array[j]);\n",
    "        }\n",
    "    }\n",
    "    public static void chartest() \n",
    "    {\n",
    "        System.out.println(\"doubles\");\n",
    "        double[] doubloon = new double[]{0.0,1.1,2.2,3.3,4.4,5.5};\n",
    "        System.out.println(doubloon[0]);\n",
    "        for (int i = 0; i < doubloon.length; i++)\n",
    "        {\n",
    "            System.out.print(doubloon[i]);\n",
    "        }\n",
    "    }\n",
    "    public static void bool() \n",
    "    {\n",
    "       \n",
    "    }\n",
    "    \n",
    "}\n",
    "intdemo.main(null);\n",
    "intdemo.chartest();\n",
    "intdemo.bool();\n"
   ]
  },
  {
   "cell_type": "code",
   "execution_count": null,
   "metadata": {
    "vscode": {
     "languageId": "java"
    }
   },
   "outputs": [],
   "source": [
    "import java.util.Random;\n",
    "\n",
    "public class PrimitiveTypes {\n",
    "    \n",
    "    public static void main(String[] args) {\n",
    "        \n",
    "        // int example using array and substring method\n",
    "        int[] intArray = {1, 2, 3, 4, 5};\n",
    "        String intString = Integer.toString(intArray[2]);\n",
    "        System.out.println(\"The third element in intArray is: \" + intString.substring(0, 1));\n",
    "        \n",
    "        // double example using random method\n",
    "        double randomNumber = Math.random();\n",
    "        System.out.println(\"Random number between 0 and 1: \" + randomNumber);\n",
    "        \n",
    "        // boolean example using array\n",
    "        boolean[] boolArray = {true, false, false, true, true};\n",
    "        System.out.println(\"The fourth element in boolArray is: \" + boolArray[3]);\n",
    "        \n",
    "        // char example using array\n",
    "        char[] charArray = {'a', 'b', 'c', 'd', 'e'};\n",
    "        System.out.println(\"The second element in charArray is: \" + charArray[1]);\n",
    "        \n",
    "        // Converting int example to Integer wrapper class using array\n",
    "        Integer[] integerArray = new Integer[intArray.length];\n",
    "        for (int i = 0; i < intArray.length; i++) {\n",
    "            integerArray[i] = Integer.valueOf(intArray[i]);\n",
    "        }\n",
    "        System.out.println(\"The third element in integerArray is: \" + integerArray[2]);\n",
    "        \n",
    "        // Converting double example to Double wrapper class using array\n",
    "        Double[] doubleArray = new Double[1];\n",
    "        doubleArray[0] = Double.valueOf(randomNumber);\n",
    "        System.out.println(\"Random number in Double wrapper class: \" + doubleArray[0]);\n",
    "        \n",
    "        // Converting boolean example to Boolean wrapper class using array\n",
    "        Boolean[] booleanArray = new Boolean[boolArray.length];\n",
    "        for (int i = 0; i < boolArray.length; i++) {\n",
    "            booleanArray[i] = Boolean.valueOf(boolArray[i]);\n",
    "        }\n",
    "        System.out.println(\"The fourth element in booleanArray is: \" + booleanArray[3]);\n",
    "        \n",
    "        // Converting char example to Character wrapper class using array\n",
    "        Character[] characterArray = new Character[charArray.length];\n",
    "        for (int i = 0; i < charArray.length; i++) {\n",
    "            characterArray[i] = Character.valueOf(charArray[i]);\n",
    "        }\n",
    "        System.out.println(\"The second element in characterArray is: \" + characterArray[1]);\n",
    "    }\n",
    "}\n",
    "PrimitiveTypes.main(null);"
   ]
  },
  {
   "attachments": {},
   "cell_type": "markdown",
   "metadata": {},
   "source": [
    "### FRQ\n",
    "2017 #3"
   ]
  },
  {
   "cell_type": "code",
   "execution_count": 1,
   "metadata": {
    "vscode": {
     "languageId": "java"
    }
   },
   "outputs": [
    {
     "name": "stdout",
     "output_type": "stream",
     "text": [
      "A crane ate late.\n"
     ]
    }
   ],
   "source": [
    "public class Phrase\n",
    "{\n",
    "    private String currentPhrase;\n",
    "    /**Constructs a new phrase object */\n",
    "    public Phrase(String p)\n",
    "    {\n",
    "        currentPhrase = p;\n",
    "    }\n",
    "    /** Returns the index of the nth occurrence of str in the current phrase;\n",
    "     * returns -1 if the nth occurence doesn't exist\n",
    "     * Precondition: str.length() > 0 and n > 0\n",
    "     * Postcondition: the current phrase is not modified\n",
    "     *\n",
    "     */\n",
    "    public int findNthOccurrence(String str, int n)\n",
    "    {\n",
    "        int count = 0;\n",
    "        int pos = -1;\n",
    "        for(int i = 0; i < currentPhrase.length(); )\n",
    "        {\n",
    "            if(currentPhrase.indexOf(str, i) >= 0)\n",
    "            {\n",
    "                count++;\n",
    "                pos = currentPhrase.indexOf(str, i);\n",
    "                i = currentPhrase.indexOf(str, i) + str.length();\n",
    "                if(count == n){\n",
    "                    break;\n",
    "                }\n",
    "            }\n",
    "            else\n",
    "            {\n",
    "                break;\n",
    "            }\n",
    "        }\n",
    "        if(count != n){\n",
    "            return -1;\n",
    "        }\n",
    "        return pos;\n",
    "    }\n",
    "    public void replaceNthOccurrence(String str, int n, String repl)\n",
    "    {\n",
    "        int indexOfString = findNthOccurrence(str, n); //find starting index in currentPhrase\n",
    "                    //control structure, selection structure, if statement\n",
    "        if(indexOfString != -1){ //if string found at least n times\n",
    "            String leadingStr = this.currentPhrase.substring(0, indexOfString); //get leading before nth\n",
    "            String trailingStr = this.currentPhrase.substring(indexOfString + str.length()); //trailing part after\n",
    "            this.currentPhrase = leadingStr + repl + trailingStr; //replace nth occurance with replacement\n",
    "        }\n",
    "    }\n",
    "    // iteration --> while loop\n",
    "        // --> keep repeating the loop until findNthOccurrence return -1\n",
    "        // --> (findNthOccurrence(..) != -1)\n",
    "    public int findLastOccurrence(String str)\n",
    "    {\n",
    "        int i = 1;\n",
    "        //control structures\n",
    "        //use of conditional statements like while loop\n",
    "        while(findNthOccurrence(str, i) != -1)\n",
    "        {\n",
    "            i++;\n",
    "        }\n",
    "        return findNthOccurrence(str, i);\n",
    "    }\n",
    "    public String toString()\n",
    "    {\n",
    "        return currentPhrase;\n",
    "    }\n",
    "    public static void main(String args[]) {\n",
    "        Phrase phrase1 = new Phrase(\"A cat ate late.\");\n",
    "        phrase1.replaceNthOccurrence(\"at\", 1, \"rane\");\n",
    "        System.out.println(phrase1);\n",
    "    }\n",
    "}\n",
    "Phrase.main(null)"
   ]
  }
 ],
 "metadata": {
  "kernelspec": {
   "display_name": "Java",
   "language": "java",
   "name": "java"
  },
  "language_info": {
   "codemirror_mode": "java",
   "file_extension": ".jshell",
   "mimetype": "text/x-java-source",
   "name": "Java",
   "pygments_lexer": "java",
   "version": "17.0.5+8-Ubuntu-2ubuntu120.04"
  },
  "orig_nbformat": 4
 },
 "nbformat": 4,
 "nbformat_minor": 2
}
