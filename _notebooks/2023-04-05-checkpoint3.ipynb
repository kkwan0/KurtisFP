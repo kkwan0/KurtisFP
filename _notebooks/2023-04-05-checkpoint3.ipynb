{
 "cells": [
  {
   "attachments": {},
   "cell_type": "markdown",
   "metadata": {},
   "source": [
    "# Checkpoint 3\n",
    "> Checkpoint 3\n",
    "\n",
    "- toc: true \n",
    "- badges: true\n",
    "- comments: true\n",
    "- categories: [jupyter]\n",
    "- image: "
   ]
  },
  {
   "cell_type": "code",
   "execution_count": 1,
   "metadata": {
    "vscode": {
     "languageId": "java"
    }
   },
   "outputs": [],
   "source": [
    "public abstract class Collectable implements Comparable <Collectable> {\n",
    "\tpublic final String masterType = \"Collectable\";\n",
    "\tprivate String type;\t// extender should define their data type\n",
    "\n",
    "\t// enumerated interface\n",
    "\tpublic interface KeyTypes {\n",
    "\t\tString name();\n",
    "\t}\n",
    "\tprotected abstract KeyTypes getKey();  \t// this method helps force usage of KeyTypes\n",
    "\n",
    "\t// getter\n",
    "\tpublic String getMasterType() {\n",
    "\t\treturn masterType;\n",
    "\t}\n",
    "\n",
    "\t// getter\n",
    "\tpublic String getType() {\n",
    "\t\treturn type;\n",
    "\t}\n",
    "\n",
    "\t// setter\n",
    "\tpublic void setType(String type) {\n",
    "\t\tthis.type = type;\n",
    "\t}\n",
    "\t\n",
    "\t// this method is used to establish key order\n",
    "\tpublic abstract String toString();\n",
    "\n",
    "\t// this method is used to compare toString of objects\n",
    "\tpublic int compareTo(Collectable obj) {\n",
    "\t\treturn this.toString().compareTo(obj.toString());\n",
    "\t}\n",
    "\n",
    "\t// static print method used by extended classes\n",
    "\tpublic static void print(Collectable[] objs) {\n",
    "\t\t// print 'Object' properties\n",
    "\t\tSystem.out.println(objs.getClass() + \" \" + objs.length);\n",
    "\n",
    "\t\t// print 'Collectable' properties\n",
    "\t\tif (objs.length > 0) {\n",
    "\t\t\tCollectable obj = objs[0];\t// Look at properties of 1st element\n",
    "\t\t\tSystem.out.println(\n",
    "\t\t\t\t\tobj.getMasterType() + \": \" + \n",
    "\t\t\t\t\tobj.getType() +\n",
    "\t\t\t\t\t\" listed by \" +\n",
    "\t\t\t\t\tobj.getKey());\n",
    "\t\t}\n",
    "\n",
    "\t\t// print \"Collectable: Objects'\n",
    "\t\tfor(Object o : objs)\t// observe that type is Opaque\n",
    "\t\t\tSystem.out.println(o);\n",
    "\n",
    "\t\tSystem.out.println();\n",
    "\t}\n",
    "}"
   ]
  },
  {
   "cell_type": "code",
   "execution_count": 2,
   "metadata": {
    "vscode": {
     "languageId": "java"
    }
   },
   "outputs": [
    {
     "name": "stdout",
     "output_type": "stream",
     "text": [
      "class [LREPL.$JShell$13$Animal; 6\n",
      "Collectable: Animal listed by title\n",
      "Animal: Lion, Gold, 8\n",
      "Animal: Pig, Pink, 3\n",
      "Animal: Robin, Red, 7\n",
      "Animal: Cat, Black, 10\n",
      "Animal: Kitty, Calico, 1\n",
      "Animal: Dog, Brown, 14\n",
      "\n",
      "Animal: Cat, Black, 10\n",
      "Animal: Dog, Brown, 14\n",
      "Animal: Kitty, Calico, 1\n",
      "Animal: Lion, Gold, 8\n",
      "Animal: Pig, Pink, 3\n",
      "Animal: Robin, Red, 7\n"
     ]
    }
   ],
   "source": [
    "/*\n",
    " * Animal class extends Collectable and defines abstract methods\n",
    " */\n",
    "public class Animal extends Collectable {\n",
    "\t// Class data\n",
    "\tpublic static KeyTypes key = KeyType.title;  // static initializer\n",
    "\tpublic static void setOrder(KeyTypes key) { Animal.key = key; }\n",
    "\tpublic enum KeyType implements KeyTypes {title, name, age, color}\n",
    "\n",
    "\t// Instance data\n",
    "\tprivate final String name;\n",
    "\tprivate final int age;\n",
    "\tprivate final String color;\n",
    "\n",
    "\t/* constructor\n",
    "\t *\n",
    "\t */\n",
    "\tpublic Animal(String name, int age, String color)\n",
    "\t{\n",
    "\t\tsuper.setType(\"Animal\");\n",
    "\t\tthis.name = name;\n",
    "\t\tthis.age = age;\n",
    "\t\tthis.color = color;\n",
    "\t}\n",
    "\n",
    "\t/* 'Collectable' requires getKey to help enforce KeyTypes usage */\n",
    "\t@Override\n",
    "\tprotected KeyTypes getKey() { return Animal.key; }\n",
    "\t\n",
    "\t/* 'Collectable' requires toString override\n",
    "\t * toString provides data based off of Static Key setting\n",
    "\t */\n",
    "\t@Override\n",
    "\tpublic String toString()\n",
    "\t{\n",
    "\t\tString output=\"\";\n",
    "\t\tif (KeyType.name.equals(this.getKey())) {\n",
    "\t\t\toutput += this.name;\n",
    "\t\t} else if (KeyType.age.equals(this.getKey())) {\n",
    "\t\t\toutput += \"00\" + this.age;\n",
    "\t\t\toutput = output.substring(output.length() - 2);\n",
    "\t\t} else if (KeyType.color.equals(this.getKey())) {\n",
    "\t\t\toutput += this.color;\n",
    "\t\t} else {\n",
    "\t\t\toutput += super.getType() + \": \" + this.name + \", \" + this.color + \", \" + this.age;\n",
    "\t\t}\n",
    "\t\treturn output;\n",
    "\t\t\n",
    "\t}\n",
    "\n",
    "\t// Test data initializer\n",
    "\tpublic static Animal[] animals() {\n",
    "\t\treturn new Animal[]{\n",
    "\t\t\t\tnew Animal(\"Lion\", 8, \"Gold\"),\n",
    "\t\t\t\tnew Animal(\"Pig\", 3, \"Pink\"),\n",
    "\t\t\t\tnew Animal(\"Robin\", 7, \"Red\"),\n",
    "\t\t\t\tnew Animal(\"Cat\", 10, \"Black\"),\n",
    "\t\t\t\tnew Animal(\"Kitty\", 1, \"Calico\"),\n",
    "\t\t\t\tnew Animal(\"Dog\", 14, \"Brown\")\n",
    "\t\t};\n",
    "\t}\n",
    "\t\n",
    "\t/* main to test Animal class\n",
    "\t * \n",
    "\t */\n",
    "\tpublic static void main(String[] args)\n",
    "\t{\n",
    "\t\t// Inheritance Hierarchy\n",
    "\t\tAnimal[] objs = animals();\n",
    "\n",
    "\t\t// print with title\n",
    "\t\tAnimal.setOrder(KeyType.title);\n",
    "\t\tAnimal.print(objs);\n",
    "\n",
    "\t\t// convert to Coolection and sort in name order\n",
    "\t\tAnimal.setOrder(KeyType.name);\n",
    "\t\tList<Animal> animals = new ArrayList<Animal>(Arrays.asList(objs));  // Array has asList conversion\n",
    "\t\tCollections.sort(animals);\n",
    "\t\tAnimal.setOrder(KeyType.title);\n",
    "\t\tfor (Animal animal : animals)\n",
    "\t\t\tSystem.out.println(animal);\n",
    "\t}\n",
    "\n",
    "}\n",
    "Animal.main(null);"
   ]
  },
  {
   "attachments": {},
   "cell_type": "markdown",
   "metadata": {},
   "source": [
    "## Built Sort into Data Structures"
   ]
  },
  {
   "cell_type": "code",
   "execution_count": 21,
   "metadata": {
    "vscode": {
     "languageId": "java"
    }
   },
   "outputs": [
    {
     "name": "stdout",
     "output_type": "stream",
     "text": [
      "[John, Sarah, Michael, David]\n",
      "sorted queue: [David, John, Michael, Sarah]\n",
      "[John, Michael, Sarah]\n",
      "Removed element: David\n",
      "[Michael, Sarah]\n",
      "Removed element: John\n",
      "[Sarah]\n",
      "Removed element: Michael\n",
      "[]\n",
      "Removed element: Sarah\n"
     ]
    }
   ],
   "source": [
    "import java.util.LinkedList;\n",
    "\n",
    "public class QueueExample {\n",
    "   public static void main(String[] args) {\n",
    "      LinkedList<String> queue = new LinkedList<>();\n",
    "\n",
    "      // Adding elements to the queue\n",
    "      queue.add(\"John\");\n",
    "      queue.add(\"Sarah\");\n",
    "      queue.add(\"Michael\");\n",
    "      queue.add(\"David\");\n",
    "      System.out.println(queue);\n",
    "\n",
    "      for (int i = 0; i < queue.size() - 1; i++) { //bubble sort\n",
    "         for (int j = 0; j < queue.size() - i - 1; j++) {\n",
    "             String current = queue.get(j);\n",
    "             String next = queue.get(j+1);\n",
    "             if (current.compareTo(next) > 0) {\n",
    "                 queue.set(j, next);\n",
    "                 queue.set(j+1, current);\n",
    "             }\n",
    "         }\n",
    "     }\n",
    "     System.out.println(\"sorted queue: \" + queue);\n",
    "      // Printing and removing all elements in the queue\n",
    "      while (!queue.isEmpty()) {\n",
    "         String element = queue.remove(); //removes queue\n",
    "         System.out.println(queue); //prints out remaining queue\n",
    "\n",
    "         System.out.println(\"Removed element: \" + element);\n",
    "      }\n",
    "   }\n",
    "}\n",
    "QueueExample.main(null);\n"
   ]
  },
  {
   "cell_type": "code",
   "execution_count": 18,
   "metadata": {
    "vscode": {
     "languageId": "java"
    }
   },
   "outputs": [
    {
     "name": "stdout",
     "output_type": "stream",
     "text": [
      "[David, John, Michael, Sarah]\n"
     ]
    }
   ],
   "source": []
  },
  {
   "attachments": {},
   "cell_type": "markdown",
   "metadata": {},
   "source": [
    "### Big O analysis"
   ]
  }
 ],
 "metadata": {
  "kernelspec": {
   "display_name": "Java",
   "language": "java",
   "name": "java"
  },
  "language_info": {
   "codemirror_mode": "java",
   "file_extension": ".jshell",
   "mimetype": "text/x-java-source",
   "name": "Java",
   "pygments_lexer": "java",
   "version": "17.0.5+8-Ubuntu-2ubuntu120.04"
  },
  "orig_nbformat": 4
 },
 "nbformat": 4,
 "nbformat_minor": 2
}
