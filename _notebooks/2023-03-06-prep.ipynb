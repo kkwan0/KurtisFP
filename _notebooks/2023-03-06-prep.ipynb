{
 "cells": [
  {
   "attachments": {},
   "cell_type": "markdown",
   "metadata": {},
   "source": [
    "# Prep for tt\n",
    "> tt prep\n",
    "\n",
    "- toc: true \n",
    "- badges: true\n",
    "- comments: true\n",
    "- categories: [jupyter]\n",
    "- image: "
   ]
  },
  {
   "cell_type": "code",
   "execution_count": 13,
   "metadata": {},
   "outputs": [
    {
     "name": "stdout",
     "output_type": "stream",
     "text": [
      "2\n",
      "1\n"
     ]
    }
   ],
   "source": [
    "public class seed{\n",
    "public static void main(String[] args)\n",
    "{\n",
    "int a = 1;\n",
    "int b = 1;\n",
    "int sum = a + b;\n",
    "System.out.println(sum);\n",
    "int test = 1;\n",
    "int number = 10;\n",
    "int remainder = test % number ;  \n",
    "System.out.println(remainder); \n",
    "\n",
    "while (test > 0){\n",
    "    \n",
    "}\n",
    "}\n",
    "}\n",
    "seed.main(null);"
   ]
  },
  {
   "cell_type": "code",
   "execution_count": 7,
   "metadata": {},
   "outputs": [
    {
     "name": "stdout",
     "output_type": "stream",
     "text": [
      "Enter first number: Enter second number: Output: 020"
     ]
    }
   ],
   "source": [
    "import java.util.Scanner;\n",
    "public class BinaryAddition {\n",
    "   public static void main(String[] args)\n",
    "   {\n",
    "    int b1, b2; //define both variables\n",
    "    int i = 0, remainder = 0; //I is the index of the variable, remainder is the \n",
    "\n",
    "\n",
    "    int[] sum = new int[10]; //holds it in an array\n",
    "\n",
    "    Scanner scanner = new Scanner(System.in); //read input with scanner\n",
    "\n",
    "    System.out.print(\"Enter first number: \");\n",
    "    b1 = scanner.nextInt();\n",
    "    System.out.print(\"Enter second number: \");\n",
    "    b2 = scanner.nextInt();\n",
    "\n",
    "    while (b1 != 0 || b2 != 0)  //while the numbers are positive\n",
    "    {\n",
    "        sum[i++] = (int)((b1 % 10 + b2 % 10 + remainder) % 2); // goes down in decimal places, and then takes the remainder of division by 2 \n",
    "        remainder = (int)((b1 % 10 + b2 % 10 + remainder) / 2); // remainder is going to be if it isn't divisible\n",
    "        b1 = b1 / 10; //goes down a tenth\n",
    "        b2 = b2 / 10; //goes down a tenth\n",
    "        \n",
    "    }\n",
    "    if (remainder != 0) { //if there isn't a remainder then it equals that number(a 1)\n",
    "        sum[i++] = remainder;\n",
    "    }\n",
    "    System.out.print(\"Output: \");\n",
    "    while (i >= 0) {\n",
    "        System.out.print(sum[i--]); // prints it going backwards\n",
    "    }\n",
    "   }\n",
    "}\n",
    "BinaryAddition.main(null);"
   ]
  }
 ],
 "metadata": {
  "kernelspec": {
   "display_name": "Java",
   "language": "java",
   "name": "java"
  },
  "language_info": {
   "codemirror_mode": "java",
   "file_extension": ".jshell",
   "mimetype": "text/x-java-source",
   "name": "java",
   "pygments_lexer": "java",
   "version": "17.0.5+8-Ubuntu-2ubuntu120.04"
  },
  "orig_nbformat": 4
 },
 "nbformat": 4,
 "nbformat_minor": 2
}
