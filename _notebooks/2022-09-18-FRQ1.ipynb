{
 "cells": [
  {
   "cell_type": "markdown",
   "metadata": {},
   "source": [
    "# APCSA previous FRQ1\n",
    "> 2018 FRQ Q1\n",
    "\n",
    "- toc: true \n",
    "- badges: true\n",
    "- comments: true\n",
    "- categories: [jupyter]\n",
    "- image: "
   ]
  },
  {
   "cell_type": "markdown",
   "metadata": {},
   "source": [
    "#FRQ\n",
    "\n",
    "Q1 focuses on methods and control structures. Here is the solution. \n",
    "\n",
    "part a. complete method eimulaet below. you must use hopDistance appropriately\n",
    "\n",
    "/* simluates a frog attempting to reach the goal as described in part a\n",
    "\n",
    "returns true if frog successfully reached or passed the goal during the simluation\n",
    "false otherwise\n",
    "*/"
   ]
  },
  {
   "cell_type": "code",
   "execution_count": 1,
   "metadata": {},
   "outputs": [],
   "source": [
    "//the first 2 lines were given\n",
    "public boolean simluate()\n",
    "{\n",
    "    int pos = 0;\n",
    "    for (int count = 0; count < maxHops; count++)\n",
    "    {\n",
    "        pos += hopDistance();\n",
    "        if (pos >= goal)\n",
    "        {\n",
    "            return true;\n",
    "        }\n",
    "        else if (pos < 0)\n",
    "        {\n",
    "            return false;\n",
    "        }\n",
    "    }\n",
    "    return false;\n",
    "}\n"
   ]
  },
  {
   "cell_type": "markdown",
   "metadata": {},
   "source": [
    "part b.\n",
    "\n",
    "write the runSimluations method, which performs a given number of simluations and returns the proportion of simluations in which the frog successfully reached or passed the goal. For example, if the parameter passed to runSimluations is 400, and 100 of the 400 simluate method calls returned true, then the runSimluations method should return 0.25\n",
    "\n",
    "complete method runSimulations below. assume that simluate works as specified, regardless of what you wrote in part a. you must use simluate appropriately to recieve full credit"
   ]
  },
  {
   "cell_type": "code",
   "execution_count": null,
   "metadata": {},
   "outputs": [],
   "source": [
    "/* runs num simluations and returns the proportion of simluations in which the frog successfully reached or passed the goal\n",
    "*  precondition: num > 0\n",
    "*/\n",
    "//first 2 lines given\n",
    "\n",
    "public double runSimulations(int num)\n",
    "{\n",
    "    int succ = 0;\n",
    "    for (int i = 0; i < num; i++)\n",
    "    {\n",
    "        if(simluate())\n",
    "        {\n",
    "            succ++;\n",
    "        }\n",
    "    }\n",
    "    return (double)succ / num;\n",
    "}"
   ]
  },
  {
   "cell_type": "markdown",
   "metadata": {},
   "source": [
    "I think that when actually doing it on paper is going to be harder, because you cant really test for solutions. I think that its going to be hard, especially because I am not particularly good at remembering syntax. I think that with more practice, I should be better at solving these solutions.  "
   ]
  }
 ],
 "metadata": {
  "kernelspec": {
   "display_name": "Java",
   "language": "java",
   "name": "java"
  },
  "language_info": {
   "codemirror_mode": "java",
   "file_extension": ".jshell",
   "mimetype": "text/x-java-source",
   "name": "java",
   "pygments_lexer": "java",
   "version": "11.0.16+8-post-Ubuntu-0ubuntu120.04"
  },
  "orig_nbformat": 4,
  "vscode": {
   "interpreter": {
    "hash": "916dbcbb3f70747c44a77c7bcd40155683ae19c65e1c03b4aa3499c5328201f1"
   }
  }
 },
 "nbformat": 4,
 "nbformat_minor": 2
}
